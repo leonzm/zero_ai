{
 "cells": [
  {
   "cell_type": "markdown",
   "id": "001ba2ac",
   "metadata": {},
   "source": [
    "# [Bert-base-Chinese 微调](https://blog.csdn.net/qq_43668800/article/details/131921617)"
   ]
  },
  {
   "cell_type": "code",
   "execution_count": 1,
   "id": "fe6d915d",
   "metadata": {},
   "outputs": [],
   "source": [
    "import torch\n",
    "from torch.optim import AdamW\n",
    "from datasets import load_dataset\n",
    "from transformers import BertModel, BertTokenizer"
   ]
  },
  {
   "cell_type": "markdown",
   "id": "c32fbfa7",
   "metadata": {},
   "source": [
    "## 模型"
   ]
  },
  {
   "cell_type": "code",
   "execution_count": 2,
   "id": "2e3cb83e",
   "metadata": {},
   "outputs": [
    {
     "name": "stdout",
     "output_type": "stream",
     "text": [
      "device= cuda\n"
     ]
    }
   ],
   "source": [
    "# 优先使用 GPU\n",
    "device = 'cuda' if torch.cuda.is_available() else 'cpu'\n",
    "print('device=', device)"
   ]
  },
  {
   "cell_type": "code",
   "execution_count": 3,
   "id": "e925879d",
   "metadata": {},
   "outputs": [
    {
     "name": "stderr",
     "output_type": "stream",
     "text": [
      "Some weights of the model checkpoint at bert-base-chinese were not used when initializing BertModel: ['cls.seq_relationship.weight', 'cls.predictions.bias', 'cls.predictions.transform.dense.bias', 'cls.seq_relationship.bias', 'cls.predictions.transform.LayerNorm.bias', 'cls.predictions.transform.dense.weight', 'cls.predictions.transform.LayerNorm.weight', 'cls.predictions.decoder.weight']\n",
      "- This IS expected if you are initializing BertModel from the checkpoint of a model trained on another task or with another architecture (e.g. initializing a BertForSequenceClassification model from a BertForPreTraining model).\n",
      "- This IS NOT expected if you are initializing BertModel from the checkpoint of a model that you expect to be exactly identical (initializing a BertForSequenceClassification model from a BertForSequenceClassification model).\n"
     ]
    }
   ],
   "source": [
    "# 加载预训练模型\n",
    "pretrained = BertModel.from_pretrained('bert-base-chinese')\n",
    "# 需要移动到cuda上\n",
    "pretrained.to(device)\n",
    "\n",
    "# 不训练,不需要计算梯度\n",
    "for param in pretrained.parameters():\n",
    "    param.requires_grad_(False)"
   ]
  },
  {
   "cell_type": "code",
   "execution_count": 4,
   "id": "d7ad9f8d",
   "metadata": {},
   "outputs": [
    {
     "data": {
      "text/plain": [
       "Model(\n",
       "  (fc): Linear(in_features=768, out_features=2, bias=True)\n",
       ")"
      ]
     },
     "execution_count": 4,
     "metadata": {},
     "output_type": "execute_result"
    }
   ],
   "source": [
    "# 定义下游任务模型\n",
    "class Model(torch.nn.Module):\n",
    "    def __init__(self):\n",
    "        super().__init__()\n",
    "        self.fc = torch.nn.Linear(768, 2)\n",
    "\n",
    "    def forward(self, input_ids, attention_mask, token_type_ids):\n",
    "        with torch.no_grad():\n",
    "            out = pretrained(input_ids=input_ids,\n",
    "                             attention_mask=attention_mask,\n",
    "                             token_type_ids=token_type_ids)\n",
    "\n",
    "        out = self.fc(out.last_hidden_state[:, 0])\n",
    "        out = out.softmax(dim=1)\n",
    "        return out\n",
    "\n",
    "\n",
    "model = Model()\n",
    "# 同样要移动到cuda\n",
    "model.to(device)"
   ]
  },
  {
   "cell_type": "code",
   "execution_count": null,
   "id": "fa8afecc",
   "metadata": {},
   "outputs": [],
   "source": []
  },
  {
   "cell_type": "markdown",
   "id": "913135fe",
   "metadata": {},
   "source": [
    "## 数据集"
   ]
  },
  {
   "cell_type": "code",
   "execution_count": 5,
   "id": "66644bec",
   "metadata": {},
   "outputs": [
    {
     "name": "stderr",
     "output_type": "stream",
     "text": [
      "Using custom data configuration lansinuote--ChnSentiCorp-4d058ef86e3db8d5\n",
      "Reusing dataset parquet (/root/.cache/huggingface/datasets/lansinuote___parquet/lansinuote--ChnSentiCorp-4d058ef86e3db8d5/0.0.0/2a3b91fbd88a2c90d1dbbb32b460cf621d31bd5b05b934492fdef7d8d6f236ec)\n",
      "Loading cached processed dataset at /root/.cache/huggingface/datasets/lansinuote___parquet/lansinuote--ChnSentiCorp-4d058ef86e3db8d5/0.0.0/2a3b91fbd88a2c90d1dbbb32b460cf621d31bd5b05b934492fdef7d8d6f236ec/cache-3f28c458f01cdeac.arrow\n"
     ]
    }
   ],
   "source": [
    "import random\n",
    "\n",
    "# 定义数据集\n",
    "class Dataset(torch.utils.data.Dataset):\n",
    "    def __init__(self, split):\n",
    "        dataset = load_dataset(path='lansinuote/ChnSentiCorp', split=split)\n",
    "\n",
    "        def f(data):\n",
    "            return len(data['text']) > 40\n",
    "        self.dataset = dataset.filter(f)\n",
    "\n",
    "    def __len__(self):\n",
    "        return len(self.dataset)\n",
    "\n",
    "    def __getitem__(self, i):\n",
    "        text = self.dataset[i]['text']\n",
    "        # 切分一句话为前半句和后半句\n",
    "        sentence1 = text[:20]\n",
    "        sentence2 = text[20:40]\n",
    "        label = 0\n",
    "        # 有一半的概率把后半句替换为一句无关的话\n",
    "        if random.randint(0, 1) == 0:\n",
    "            j = random.randint(0, len(self.dataset) - 1)\n",
    "            sentence2 = self.dataset[j]['text'][20:40]\n",
    "            label = 1\n",
    "        return sentence1, sentence2, label\n",
    "\n",
    "\n",
    "dataset = Dataset('train')"
   ]
  },
  {
   "cell_type": "code",
   "execution_count": 6,
   "id": "10380208",
   "metadata": {},
   "outputs": [],
   "source": [
    "# 加载字典和分词工具\n",
    "tokenizer = BertTokenizer.from_pretrained('bert-base-chinese')"
   ]
  },
  {
   "cell_type": "code",
   "execution_count": 7,
   "id": "77436160",
   "metadata": {},
   "outputs": [
    {
     "name": "stdout",
     "output_type": "stream",
     "text": [
      "1000\n",
      "[CLS] 整 体 做 工 尚 可 ， 屏 幕 大 有 面 子 ， 硬 盘 大 够 肚 量 [SEP], 外 面 飞 机 的 声 音 很 大, 隔 音 效 果 很 差, 房 间 [SEP] [PAD] [PAD]\n",
      "torch.Size([8, 45]) torch.Size([8, 45]) torch.Size([8, 45]) tensor([1, 0, 0, 0, 0, 1, 0, 1], device='cuda:0')\n"
     ]
    }
   ],
   "source": [
    "def collate_fn(data):\n",
    "    sents = [i[:2] for i in data]\n",
    "    labels = [i[2] for i in data]\n",
    "\n",
    "    # 编码\n",
    "    data = tokenizer.batch_encode_plus(batch_text_or_text_pairs=sents,\n",
    "                                   truncation=True,\n",
    "                                   padding='max_length',\n",
    "                                   max_length=45,\n",
    "                                   return_tensors='pt',\n",
    "                                   return_length=True,\n",
    "                                   add_special_tokens=True)\n",
    "    # input_ids:编码之后的数字\n",
    "    # attention_mask:是补零的位置是0,其他位置是1\n",
    "    # token_type_ids:第一个句子和特殊符号的位置是0,第二个句子的位置是1\n",
    "    input_ids = data['input_ids'].to(device)\n",
    "    attention_mask = data['attention_mask'].to(device)\n",
    "    token_type_ids = data['token_type_ids'].to(device)\n",
    "    labels = torch.LongTensor(labels).to(device)\n",
    "    # print(data['length'], data['length'].max())\n",
    "    return input_ids, attention_mask, token_type_ids, labels\n",
    "\n",
    "\n",
    "# 数据加载器\n",
    "loader = torch.utils.data.DataLoader(dataset=dataset,\n",
    "                                     batch_size=8,\n",
    "                                     collate_fn=collate_fn,\n",
    "                                     shuffle=True,\n",
    "                                     drop_last=True)\n",
    "for i, (input_ids, attention_mask, token_type_ids,\n",
    "        labels) in enumerate(loader):\n",
    "    break\n",
    "\n",
    "print(len(loader))\n",
    "print(tokenizer.decode(input_ids[0]))\n",
    "print(input_ids.shape, attention_mask.shape, token_type_ids.shape, labels)"
   ]
  },
  {
   "cell_type": "code",
   "execution_count": null,
   "id": "9ad9aa1c",
   "metadata": {},
   "outputs": [],
   "source": []
  },
  {
   "cell_type": "markdown",
   "id": "7a2b0105",
   "metadata": {},
   "source": [
    "## 训练"
   ]
  },
  {
   "cell_type": "code",
   "execution_count": 8,
   "id": "c41fa5a8",
   "metadata": {},
   "outputs": [
    {
     "name": "stdout",
     "output_type": "stream",
     "text": [
      "Start time: 2024-03-17 12:48:00.722390\n",
      "0 0.7457993030548096 0.25\n",
      "5 0.7447078227996826 0.5\n",
      "10 0.6512042284011841 0.5\n",
      "15 0.5302249193191528 0.75\n",
      "20 0.4732957184314728 1.0\n",
      "25 0.5366321206092834 0.75\n",
      "30 0.5576537847518921 0.75\n",
      "35 0.3859046697616577 1.0\n",
      "40 0.366267591714859 1.0\n",
      "45 0.3605179488658905 1.0\n",
      "50 0.4770599901676178 0.875\n",
      "55 0.5751177072525024 0.75\n",
      "60 0.4722777307033539 1.0\n",
      "65 0.4826355278491974 0.75\n",
      "70 0.4004383981227875 1.0\n",
      "75 0.5198293924331665 0.75\n",
      "80 0.41101157665252686 0.875\n",
      "85 0.559878945350647 0.625\n",
      "90 0.49069011211395264 0.875\n",
      "95 0.5671958923339844 0.75\n",
      "100 0.39849206805229187 0.875\n",
      "105 0.45369070768356323 0.875\n",
      "110 0.4357307553291321 0.875\n",
      "115 0.4981495141983032 0.875\n",
      "120 0.3690829873085022 1.0\n",
      "125 0.5909870862960815 0.625\n",
      "130 0.4175727963447571 0.875\n",
      "135 0.34160590171813965 1.0\n",
      "140 0.3885098993778229 1.0\n",
      "145 0.5496517419815063 0.75\n",
      "150 0.5299004316329956 0.75\n",
      "155 0.3453321158885956 1.0\n",
      "160 0.5472413897514343 0.75\n",
      "165 0.4392426311969757 0.875\n",
      "170 0.5538970828056335 0.75\n",
      "175 0.5180336236953735 0.75\n",
      "180 0.6447439789772034 0.625\n",
      "185 0.31504112482070923 1.0\n",
      "190 0.4513314664363861 0.875\n",
      "195 0.33216825127601624 1.0\n",
      "200 0.5475550293922424 0.75\n",
      "205 0.35370564460754395 1.0\n",
      "210 0.357401043176651 1.0\n",
      "215 0.373077392578125 1.0\n",
      "220 0.46264737844467163 0.875\n",
      "225 0.3260005712509155 1.0\n",
      "230 0.6517833471298218 0.625\n",
      "235 0.497981458902359 0.875\n",
      "240 0.5177294015884399 0.75\n",
      "245 0.4457218050956726 0.875\n",
      "250 0.4081520736217499 0.875\n",
      "255 0.4449155330657959 0.875\n",
      "260 0.5741412043571472 0.75\n",
      "265 0.40788939595222473 0.875\n",
      "270 0.35554400086402893 1.0\n",
      "275 0.3346827030181885 1.0\n",
      "280 0.3619860112667084 1.0\n",
      "285 0.6249759197235107 0.625\n",
      "290 0.33112263679504395 1.0\n",
      "295 0.3770662546157837 1.0\n",
      "300 0.5670695304870605 0.75\n",
      "End time: 2024-03-17 12:48:09.070682\n",
      "Consume time of second: 8\n"
     ]
    }
   ],
   "source": [
    "import time, datetime\n",
    "\n",
    "start_time = datetime.datetime.now()\n",
    "print('Start time:', start_time)\n",
    "\n",
    "# 训练\n",
    "optimizer = AdamW(model.parameters(), lr=5e-4)\n",
    "criterion = torch.nn.CrossEntropyLoss()\n",
    "\n",
    "model.train()\n",
    "for i, (input_ids, attention_mask, token_type_ids, labels) in enumerate(loader):\n",
    "    out = model(input_ids=input_ids,\n",
    "                attention_mask=attention_mask,\n",
    "                token_type_ids=token_type_ids)\n",
    "    loss = criterion(out, labels)\n",
    "    loss.backward()\n",
    "    optimizer.step()\n",
    "    optimizer.zero_grad()\n",
    "    if i % 5 == 0:\n",
    "        out = out.argmax(dim=1)\n",
    "        accuracy = (out == labels).sum().item() / len(labels)\n",
    "        print(i, loss.item(), accuracy)\n",
    "    if i == 300:\n",
    "        break\n",
    "\n",
    "\n",
    "end_time = datetime.datetime.now()\n",
    "print('End time:', end_time)\n",
    "\n",
    "consume_time = end_time - start_time\n",
    "print('Consume time of second:', consume_time.seconds)"
   ]
  },
  {
   "cell_type": "code",
   "execution_count": null,
   "id": "5fe51178",
   "metadata": {},
   "outputs": [],
   "source": []
  },
  {
   "cell_type": "markdown",
   "id": "87441eb5",
   "metadata": {},
   "source": [
    "## 测试"
   ]
  },
  {
   "cell_type": "code",
   "execution_count": 9,
   "id": "0fe49aa6",
   "metadata": {},
   "outputs": [
    {
     "name": "stderr",
     "output_type": "stream",
     "text": [
      "Using custom data configuration lansinuote--ChnSentiCorp-4d058ef86e3db8d5\n",
      "Reusing dataset parquet (/root/.cache/huggingface/datasets/lansinuote___parquet/lansinuote--ChnSentiCorp-4d058ef86e3db8d5/0.0.0/2a3b91fbd88a2c90d1dbbb32b460cf621d31bd5b05b934492fdef7d8d6f236ec)\n",
      "Loading cached processed dataset at /root/.cache/huggingface/datasets/lansinuote___parquet/lansinuote--ChnSentiCorp-4d058ef86e3db8d5/0.0.0/2a3b91fbd88a2c90d1dbbb32b460cf621d31bd5b05b934492fdef7d8d6f236ec/cache-b2e870d062ef5600.arrow\n"
     ]
    },
    {
     "name": "stdout",
     "output_type": "stream",
     "text": [
      "5 0.89375\n",
      "10 0.8875\n",
      "15 0.8916666666666667\n",
      "20 0.871875\n",
      "25 0.8725\n",
      "0.8697916666666666\n"
     ]
    }
   ],
   "source": [
    "# 测试\n",
    "def test():\n",
    "    model.eval()\n",
    "    correct = 0\n",
    "    total = 0\n",
    "\n",
    "    loader_test = torch.utils.data.DataLoader(dataset=Dataset('test'),\n",
    "                                              batch_size=32,\n",
    "                                              collate_fn=collate_fn,\n",
    "                                              shuffle=True,\n",
    "                                              drop_last=True)\n",
    "    for i, (input_ids, attention_mask, token_type_ids, labels) in enumerate(loader_test):\n",
    "        if i%5 == 0 and total != 0:\n",
    "            print(i, correct / total)\n",
    "        with torch.no_grad():\n",
    "            out = model(input_ids=input_ids,\n",
    "                        attention_mask=attention_mask,\n",
    "                        token_type_ids=token_type_ids)\n",
    "        pred = out.argmax(dim=1)\n",
    "        correct += (pred == labels).sum().item()\n",
    "        total += len(labels)\n",
    "    print(correct / total)\n",
    "\n",
    "\n",
    "test()"
   ]
  },
  {
   "cell_type": "code",
   "execution_count": null,
   "id": "5081cba8",
   "metadata": {},
   "outputs": [],
   "source": []
  },
  {
   "cell_type": "markdown",
   "id": "e8945bd6",
   "metadata": {},
   "source": [
    "## 保存模型"
   ]
  },
  {
   "cell_type": "code",
   "execution_count": 10,
   "id": "52ac531b",
   "metadata": {},
   "outputs": [
    {
     "name": "stdout",
     "output_type": "stream",
     "text": [
      "模型已保存至: /root/workspace/model/model_bert-base-chinese/sentence_correlation.pt\n"
     ]
    }
   ],
   "source": [
    "import torch\n",
    "\n",
    "model_path = '/root/workspace/model/model_bert-base-chinese/sentence_correlation.pt'\n",
    "# torch.save(model.state_dict(), model_path)\n",
    "torch.save(model.state_dict(), model_path)\n",
    "print('模型已保存至:', model_path)"
   ]
  },
  {
   "cell_type": "code",
   "execution_count": null,
   "id": "191b63a9",
   "metadata": {},
   "outputs": [],
   "source": []
  },
  {
   "cell_type": "markdown",
   "id": "9de013da",
   "metadata": {},
   "source": [
    "## 加载模型"
   ]
  },
  {
   "cell_type": "code",
   "execution_count": 11,
   "id": "84a6f94d",
   "metadata": {},
   "outputs": [
    {
     "data": {
      "text/plain": [
       "<All keys matched successfully>"
      ]
     },
     "execution_count": 11,
     "metadata": {},
     "output_type": "execute_result"
    }
   ],
   "source": [
    "my_model = Model()\n",
    "my_model.load_state_dict(torch.load(model_path))"
   ]
  },
  {
   "cell_type": "code",
   "execution_count": 12,
   "id": "96c6db51",
   "metadata": {},
   "outputs": [
    {
     "name": "stdout",
     "output_type": "stream",
     "text": [
      "device= cuda\n"
     ]
    },
    {
     "data": {
      "text/plain": [
       "[0, 1, 0, 1]"
      ]
     },
     "execution_count": 12,
     "metadata": {},
     "output_type": "execute_result"
    }
   ],
   "source": [
    "def predict(the_model, two_sent_arr):\n",
    "    the_model.eval()\n",
    "    # 优先使用 GPU\n",
    "    device = 'cuda' if torch.cuda.is_available() else 'cpu'\n",
    "    print('device=', device)\n",
    "    the_model.to(device)\n",
    "    \n",
    "    tokenizer = BertTokenizer.from_pretrained('bert-base-chinese')\n",
    "    torch.no_grad()\n",
    "    x_encode = tokenizer.batch_encode_plus(\n",
    "        # 传入的所有句子，有成对句子\n",
    "        batch_text_or_text_pairs=two_sent_arr,\n",
    "        # 长度大于设置是否截断\n",
    "        truncation=True,\n",
    "        # 一律补齐，如果长度不够\n",
    "        padding='max_length',\n",
    "        add_special_tokens=True,\n",
    "        max_length=45,\n",
    "        # 可取值tf,pt,np,（tensorflow,pytorch,numpy）默认返回list\n",
    "        return_tensors=\"pt\",\n",
    "        # 返回token_type_ids,第一句与特殊符号是0，第二句是1\n",
    "        return_token_type_ids=True,\n",
    "        # 返回attention_mask，填充是0，其他是1\n",
    "        return_attention_mask=True,\n",
    "        # 返回special_tokens_mask特殊符号标识，特殊是1，其他是0\n",
    "        return_special_tokens_mask=True,\n",
    "        # 返回长度,这里的长度是真实长度，而非设置的长度30了\n",
    "        return_length=True\n",
    "    )\n",
    "\n",
    "    y = the_model(input_ids=x_encode['input_ids'].to(device),\n",
    "                  attention_mask=x_encode['attention_mask'].to(device),\n",
    "                  token_type_ids=x_encode['token_type_ids'].to(device))\n",
    "    # print(y)\n",
    "    res = y.argmax(dim=1)\n",
    "    return res.cpu().numpy().tolist()\n",
    "\n",
    "\n",
    "two_sents = [['这家店不错，总体环境很好，服务也很热情', '好评，希望生意越来越好'], \n",
    "             ['这家店环境太差，服务冷淡', '再也不还来'], \n",
    "             ['这家店不错，总体环境很好', '可以再考虑再次光临'],\n",
    "             ['这家店不错，总体环境很好', '我要投诉']]\n",
    "predict(my_model, two_sents)"
   ]
  },
  {
   "cell_type": "code",
   "execution_count": null,
   "id": "362bf67b",
   "metadata": {},
   "outputs": [],
   "source": []
  },
  {
   "cell_type": "code",
   "execution_count": null,
   "id": "65195c52",
   "metadata": {},
   "outputs": [],
   "source": []
  },
  {
   "cell_type": "code",
   "execution_count": null,
   "id": "62caea3d",
   "metadata": {},
   "outputs": [],
   "source": []
  },
  {
   "cell_type": "code",
   "execution_count": null,
   "id": "4882cb05",
   "metadata": {},
   "outputs": [],
   "source": []
  },
  {
   "cell_type": "code",
   "execution_count": null,
   "id": "dc61d76d",
   "metadata": {},
   "outputs": [],
   "source": []
  },
  {
   "cell_type": "code",
   "execution_count": null,
   "id": "e9103b0a",
   "metadata": {},
   "outputs": [],
   "source": []
  },
  {
   "cell_type": "code",
   "execution_count": null,
   "id": "3ff793c9",
   "metadata": {},
   "outputs": [],
   "source": []
  },
  {
   "cell_type": "code",
   "execution_count": null,
   "id": "8e63d734",
   "metadata": {},
   "outputs": [],
   "source": []
  },
  {
   "cell_type": "code",
   "execution_count": null,
   "id": "eecce80f",
   "metadata": {},
   "outputs": [],
   "source": []
  },
  {
   "cell_type": "code",
   "execution_count": null,
   "id": "8edb2d00",
   "metadata": {},
   "outputs": [],
   "source": []
  },
  {
   "cell_type": "code",
   "execution_count": null,
   "id": "0d61e5cb",
   "metadata": {},
   "outputs": [],
   "source": []
  }
 ],
 "metadata": {
  "kernelspec": {
   "display_name": "Python 3",
   "language": "python",
   "name": "python3"
  },
  "language_info": {
   "codemirror_mode": {
    "name": "ipython",
    "version": 3
   },
   "file_extension": ".py",
   "mimetype": "text/x-python",
   "name": "python",
   "nbconvert_exporter": "python",
   "pygments_lexer": "ipython3",
   "version": "3.6.9"
  }
 },
 "nbformat": 4,
 "nbformat_minor": 5
}
