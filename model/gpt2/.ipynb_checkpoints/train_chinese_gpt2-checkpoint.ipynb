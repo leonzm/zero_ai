{
 "cells": [
  {
   "cell_type": "markdown",
   "metadata": {},
   "source": [
    "# [训练一个中文GPT2](https://zhuanlan.zhihu.com/p/606339093)"
   ]
  },
  {
   "cell_type": "markdown",
   "metadata": {
    "jupyter": {
     "outputs_hidden": false
    }
   },
   "source": [
    "## 加载包和处理数据\n",
    "1. 我们只需要保证数据都含有content这一列\n",
    "2. 使用`glob`包，获得所有的数据的路径\n",
    "3. 我们使用`random`包，从所有的文件路径中，随机找50个数据路径，作为训练集合的使用"
   ]
  },
  {
   "cell_type": "code",
   "execution_count": 1,
   "metadata": {},
   "outputs": [
    {
     "data": {
      "text/plain": [
       "(9463, 50)"
      ]
     },
     "execution_count": 1,
     "metadata": {},
     "output_type": "execute_result"
    }
   ],
   "source": [
    "import random\n",
    "from glob import glob\n",
    "from datasets import load_dataset, DatasetDict\n",
    "\n",
    "random.seed(44)  # 随机种子\n",
    "\n",
    "all_file_list = glob(pathname=\"/root/dataset/gpt2_data/*/**\")\n",
    "test_file_list = random.sample(all_file_list, 50)\n",
    "train_file_list = [i for i in all_file_list if i not in test_file_list]\n",
    "\n",
    "len(train_file_list), len(test_file_list)"
   ]
  },
  {
   "cell_type": "code",
   "execution_count": null,
   "metadata": {},
   "outputs": [],
   "source": []
  },
  {
   "cell_type": "markdown",
   "metadata": {
    "jupyter": {
     "outputs_hidden": false
    }
   },
   "source": [
    "##  创建数据\n",
    "1. 只要将路径放到一个字典里面。dict的key分别为`train`、`valid`，他们对应的值就是文件路径列表即可"
   ]
  },
  {
   "cell_type": "code",
   "execution_count": 2,
   "metadata": {},
   "outputs": [
    {
     "data": {
      "application/vnd.jupyter.widget-view+json": {
       "model_id": "9fc63725923743c7b39e0c3714ba9ebd",
       "version_major": 2,
       "version_minor": 0
      },
      "text/plain": [
       "Resolving data files:   0%|          | 0/9463 [00:00<?, ?it/s]"
      ]
     },
     "metadata": {},
     "output_type": "display_data"
    },
    {
     "data": {
      "application/vnd.jupyter.widget-view+json": {
       "model_id": "c497a619fc5149d0a9212dcf5af166b9",
       "version_major": 2,
       "version_minor": 0
      },
      "text/plain": [
       "Resolving data files:   0%|          | 0/50 [00:00<?, ?it/s]"
      ]
     },
     "metadata": {},
     "output_type": "display_data"
    },
    {
     "name": "stderr",
     "output_type": "stream",
     "text": [
      "Using custom data configuration default-3f54a3f7b8d40c50\n",
      "Reusing dataset csv (cache_data/csv/default-3f54a3f7b8d40c50/0.0.0/652c3096f041ee27b04d2232d41f10547a8fecda3e284a79a0ec4053c916ef7a)\n"
     ]
    },
    {
     "data": {
      "application/vnd.jupyter.widget-view+json": {
       "model_id": "a4107cc5ec8d443b984aae2e1cffd3d1",
       "version_major": 2,
       "version_minor": 0
      },
      "text/plain": [
       "  0%|          | 0/2 [00:00<?, ?it/s]"
      ]
     },
     "metadata": {},
     "output_type": "display_data"
    },
    {
     "data": {
      "text/plain": [
       "DatasetDict({\n",
       "    train: Dataset({\n",
       "        features: ['content', 'file_path'],\n",
       "        num_rows: 9228698\n",
       "    })\n",
       "    valid: Dataset({\n",
       "        features: ['content', 'file_path'],\n",
       "        num_rows: 50527\n",
       "    })\n",
       "})"
      ]
     },
     "execution_count": 2,
     "metadata": {},
     "output_type": "execute_result"
    }
   ],
   "source": [
    "raw_datasets = load_dataset(\"csv\",data_files={'train':train_file_list,'valid':test_file_list}, cache_dir=\"cache_data\")\n",
    "\n",
    "raw_datasets"
   ]
  },
  {
   "cell_type": "code",
   "execution_count": null,
   "metadata": {},
   "outputs": [],
   "source": []
  },
  {
   "cell_type": "markdown",
   "metadata": {
    "jupyter": {
     "outputs_hidden": false
    }
   },
   "source": [
    "## Tokenizer\n",
    "> 参考 [从头开始训练因果语言模型](https://huggingface.co/course/zh-CN/chapter7/6?fw=pt)。\n",
    "\n",
    "1. Tokenizer 是最关键的一步，因为我们处理的是中文，因此使用`bert_base_chinese`就足够了\n",
    "2. 如果你的语料里面有别的语言，你也可以使用多语言。这个都无所谓的。只要保证你使用的Tokenizer能覆盖你的数据即可\n",
    "3. `context_length = 512`设置你的每一个文本的最长长度，我这里设置的是512，如果你的显卡显寸小，那你可以改小一点，比如128。但是多出来的数据，并不是说直接截断不要了，而是按照`context_length`长度，不断的对文本进行截断，大概就像是下面这样的：\n",
    "\n",
    "<img src=\"https://huggingface.co/datasets/huggingface-course/documentation-images/resolve/main/en/chapter7/chunking_texts.svg\"/>\n",
    "\n",
    "4. 对于`gpt2`模型，需要告诉模型一句话从哪里开始，从哪里结束。因此我们需要设置`bos_token`、`eos_token`、`unk_token`\n",
    "\n"
   ]
  },
  {
   "cell_type": "code",
   "execution_count": 3,
   "metadata": {},
   "outputs": [
    {
     "name": "stdout",
     "output_type": "stream",
     "text": [
      "Input IDs length: 3\n",
      "Input chunk lengths: [512, 253, 82]\n",
      "Chunk mapping: [0, 0, 1]\n"
     ]
    }
   ],
   "source": [
    "from transformers import AutoTokenizer, AutoConfig\n",
    "\n",
    "context_length = 512\n",
    "tokenizer = AutoTokenizer.from_pretrained(\"/root/model/bert-base-chinese\")\n",
    "\n",
    "# 测试 tokenizer\n",
    "outputs = tokenizer(\n",
    "    raw_datasets[\"train\"][:2][\"content\"],\n",
    "    truncation=True,\n",
    "    max_length=context_length,\n",
    "    return_overflowing_tokens=True,\n",
    "    return_length=True,\n",
    ")\n",
    "\n",
    "print(f\"Input IDs length: {len(outputs['input_ids'])}\")\n",
    "print(f\"Input chunk lengths: {(outputs['length'])}\")\n",
    "print(f\"Chunk mapping: {outputs['overflow_to_sample_mapping']}\")"
   ]
  },
  {
   "cell_type": "code",
   "execution_count": 4,
   "metadata": {},
   "outputs": [
    {
     "data": {
      "text/plain": [
       "1"
      ]
     },
     "execution_count": 4,
     "metadata": {},
     "output_type": "execute_result"
    }
   ],
   "source": [
    "tokenizer.add_special_tokens(special_tokens_dict={'bos_token': '<|endoftext|>',\n",
    " 'eos_token': '<|endoftext|>',\n",
    " 'unk_token': '<|endoftext|>'})"
   ]
  },
  {
   "cell_type": "code",
   "execution_count": 5,
   "metadata": {},
   "outputs": [
    {
     "data": {
      "application/vnd.jupyter.widget-view+json": {
       "model_id": "acfcd67fd18d43a9a72048718e4a8b3f",
       "version_major": 2,
       "version_minor": 0
      },
      "text/plain": [
       "  0%|          | 0/9229 [00:00<?, ?ba/s]"
      ]
     },
     "metadata": {},
     "output_type": "display_data"
    },
    {
     "data": {
      "application/vnd.jupyter.widget-view+json": {
       "model_id": "f7ecc6eff12243d391dbd631219a1b3e",
       "version_major": 2,
       "version_minor": 0
      },
      "text/plain": [
       "  0%|          | 0/51 [00:00<?, ?ba/s]"
      ]
     },
     "metadata": {},
     "output_type": "display_data"
    },
    {
     "data": {
      "text/plain": [
       "DatasetDict({\n",
       "    train: Dataset({\n",
       "        features: ['input_ids'],\n",
       "        num_rows: 6175754\n",
       "    })\n",
       "    valid: Dataset({\n",
       "        features: ['input_ids'],\n",
       "        num_rows: 34382\n",
       "    })\n",
       "})"
      ]
     },
     "execution_count": 5,
     "metadata": {},
     "output_type": "execute_result"
    }
   ],
   "source": [
    "def tokenize(element):\n",
    "    outputs = tokenizer(\n",
    "        element[\"content\"],\n",
    "        truncation=True,\n",
    "        max_length=context_length,\n",
    "        return_overflowing_tokens=True,\n",
    "        return_length=True,\n",
    "    )\n",
    "    input_batch = []\n",
    "    for length, input_ids in zip(outputs[\"length\"], outputs[\"input_ids\"]):\n",
    "        if length == context_length:\n",
    "            input_batch.append(input_ids)\n",
    "    return {\"input_ids\": input_batch}\n",
    "\n",
    "\n",
    "# 样本处理\n",
    "tokenized_datasets = raw_datasets.map(\n",
    "    tokenize, batched=True, remove_columns=raw_datasets[\"train\"].column_names\n",
    ")\n",
    "tokenized_datasets"
   ]
  },
  {
   "cell_type": "code",
   "execution_count": null,
   "metadata": {},
   "outputs": [],
   "source": []
  },
  {
   "cell_type": "markdown",
   "metadata": {
    "jupyter": {
     "outputs_hidden": false
    }
   },
   "source": [
    "## 模型\n",
    "1. 这里的`gpt2`模型，可不是使用别人训练好的，就是一个gpt2配置，因为我们要使用这个从头训练一个新的`gpt2`"
   ]
  },
  {
   "cell_type": "code",
   "execution_count": 7,
   "metadata": {},
   "outputs": [],
   "source": [
    "from transformers import AutoTokenizer, GPT2LMHeadModel, AutoConfig\n",
    "\n",
    "# config = AutoConfig.from_pretrained(\n",
    "#     \"gpt2\",\n",
    "#     vocab_size=len(tokenizer),\n",
    "#     n_ctx=context_length,\n",
    "#     bos_token_id=tokenizer.bos_token_id,\n",
    "#     eos_token_id=tokenizer.eos_token_id,\n",
    "# )\n",
    "config = AutoConfig.from_pretrained(\n",
    "    \"/root/model/gpt2\",\n",
    "    vocab_size=len(tokenizer),\n",
    "    n_ctx=context_length,\n",
    "    bos_token_id=tokenizer.bos_token_id,\n",
    "    eos_token_id=tokenizer.eos_token_id,\n",
    ")"
   ]
  },
  {
   "cell_type": "code",
   "execution_count": 8,
   "metadata": {},
   "outputs": [
    {
     "name": "stdout",
     "output_type": "stream",
     "text": [
      "GPT-2 size: 102.1M parameters\n"
     ]
    }
   ],
   "source": [
    "model = GPT2LMHeadModel(config)\n",
    "model_size = sum(t.numel() for t in model.parameters())\n",
    "print(f\"GPT-2 size: {model_size/1000**2:.1f}M parameters\")"
   ]
  },
  {
   "cell_type": "code",
   "execution_count": 9,
   "metadata": {},
   "outputs": [],
   "source": [
    "from transformers import DataCollatorForLanguageModeling\n",
    "\n",
    "tokenizer.pad_token = tokenizer.eos_token\n",
    "data_collator = DataCollatorForLanguageModeling(tokenizer, mlm=False)"
   ]
  },
  {
   "cell_type": "code",
   "execution_count": 10,
   "metadata": {},
   "outputs": [
    {
     "name": "stdout",
     "output_type": "stream",
     "text": [
      "input_ids shape: torch.Size([5, 512])\n",
      "attention_mask shape: torch.Size([5, 512])\n",
      "labels shape: torch.Size([5, 512])\n"
     ]
    }
   ],
   "source": [
    "out = data_collator([tokenized_datasets[\"train\"][i] for i in range(5)])\n",
    "for key in out:\n",
    "    print(f\"{key} shape: {out[key].shape}\")"
   ]
  },
  {
   "cell_type": "code",
   "execution_count": 17,
   "metadata": {},
   "outputs": [
    {
     "name": "stderr",
     "output_type": "stream",
     "text": [
      "PyTorch: setting up devices\n",
      "The default value for the training argument `--report_to` will change in v5 (from all installed integrations to none). In v5, you will need to use `--report_to all` to get the same behavior as now. You should start updating your code and make this info disappear :-).\n",
      "Using amp fp16 backend\n"
     ]
    }
   ],
   "source": [
    "from transformers import Trainer, TrainingArguments\n",
    "\n",
    "args = TrainingArguments(\n",
    "    output_dir=\"/root/model/gpt2/train/chinese_gpt2_big\",\n",
    "    per_device_train_batch_size=24,\n",
    "    per_device_eval_batch_size=24,\n",
    "    evaluation_strategy=\"steps\",\n",
    "    eval_steps=2_000,\n",
    "    logging_steps=2_000,\n",
    "    gradient_accumulation_steps=8,\n",
    "    num_train_epochs=2,\n",
    "    weight_decay=0.1,\n",
    "    warmup_steps=1_000,\n",
    "    lr_scheduler_type=\"cosine\",\n",
    "    learning_rate=5e-4,\n",
    "    save_steps=2_000,\n",
    "    fp16=True,\n",
    "    push_to_hub=False,\n",
    ")\n",
    "\n",
    "trainer = Trainer(\n",
    "    model=model,\n",
    "    tokenizer=tokenizer,\n",
    "    args=args,\n",
    "    data_collator=data_collator,\n",
    "    train_dataset=tokenized_datasets[\"train\"],\n",
    "    eval_dataset=tokenized_datasets[\"valid\"],\n",
    ")"
   ]
  },
  {
   "cell_type": "code",
   "execution_count": null,
   "metadata": {},
   "outputs": [
    {
     "name": "stderr",
     "output_type": "stream",
     "text": [
      "***** Running training *****\n",
      "  Num examples = 6175754\n",
      "  Num Epochs = 2\n",
      "  Instantaneous batch size per device = 24\n",
      "  Total train batch size (w. parallel, distributed & accumulation) = 192\n",
      "  Gradient Accumulation steps = 8\n",
      "  Total optimization steps = 64330\n"
     ]
    },
    {
     "data": {
      "text/html": [
       "\n",
       "    <div>\n",
       "      \n",
       "      <progress value='49376' max='64330' style='width:300px; height:20px; vertical-align: middle;'></progress>\n",
       "      [49376/64330 60:03:11 < 18:11:18, 0.23 it/s, Epoch 1.54/2]\n",
       "    </div>\n",
       "    <table border=\"1\" class=\"dataframe\">\n",
       "  <thead>\n",
       "    <tr style=\"text-align: left;\">\n",
       "      <th>Step</th>\n",
       "      <th>Training Loss</th>\n",
       "      <th>Validation Loss</th>\n",
       "    </tr>\n",
       "  </thead>\n",
       "  <tbody>\n",
       "    <tr>\n",
       "      <td>2000</td>\n",
       "      <td>3.732600</td>\n",
       "      <td>2.958447</td>\n",
       "    </tr>\n",
       "    <tr>\n",
       "      <td>4000</td>\n",
       "      <td>2.921800</td>\n",
       "      <td>2.733278</td>\n",
       "    </tr>\n",
       "    <tr>\n",
       "      <td>6000</td>\n",
       "      <td>2.773200</td>\n",
       "      <td>2.633057</td>\n",
       "    </tr>\n",
       "    <tr>\n",
       "      <td>8000</td>\n",
       "      <td>2.691100</td>\n",
       "      <td>2.571182</td>\n",
       "    </tr>\n",
       "    <tr>\n",
       "      <td>10000</td>\n",
       "      <td>2.638100</td>\n",
       "      <td>2.526691</td>\n",
       "    </tr>\n",
       "    <tr>\n",
       "      <td>12000</td>\n",
       "      <td>2.599300</td>\n",
       "      <td>2.493451</td>\n",
       "    </tr>\n",
       "    <tr>\n",
       "      <td>14000</td>\n",
       "      <td>2.569600</td>\n",
       "      <td>2.465112</td>\n",
       "    </tr>\n",
       "    <tr>\n",
       "      <td>16000</td>\n",
       "      <td>2.544600</td>\n",
       "      <td>2.442401</td>\n",
       "    </tr>\n",
       "    <tr>\n",
       "      <td>18000</td>\n",
       "      <td>2.523000</td>\n",
       "      <td>2.421080</td>\n",
       "    </tr>\n",
       "    <tr>\n",
       "      <td>20000</td>\n",
       "      <td>2.503400</td>\n",
       "      <td>2.403527</td>\n",
       "    </tr>\n",
       "    <tr>\n",
       "      <td>22000</td>\n",
       "      <td>2.489400</td>\n",
       "      <td>2.386188</td>\n",
       "    </tr>\n",
       "    <tr>\n",
       "      <td>24000</td>\n",
       "      <td>2.473100</td>\n",
       "      <td>2.371127</td>\n",
       "    </tr>\n",
       "    <tr>\n",
       "      <td>26000</td>\n",
       "      <td>2.457000</td>\n",
       "      <td>2.355294</td>\n",
       "    </tr>\n",
       "    <tr>\n",
       "      <td>28000</td>\n",
       "      <td>2.443800</td>\n",
       "      <td>2.340185</td>\n",
       "    </tr>\n",
       "    <tr>\n",
       "      <td>30000</td>\n",
       "      <td>2.429300</td>\n",
       "      <td>2.326729</td>\n",
       "    </tr>\n",
       "    <tr>\n",
       "      <td>32000</td>\n",
       "      <td>2.418000</td>\n",
       "      <td>2.313925</td>\n",
       "    </tr>\n",
       "    <tr>\n",
       "      <td>34000</td>\n",
       "      <td>2.394800</td>\n",
       "      <td>2.300761</td>\n",
       "    </tr>\n",
       "    <tr>\n",
       "      <td>36000</td>\n",
       "      <td>2.383600</td>\n",
       "      <td>2.288783</td>\n",
       "    </tr>\n",
       "    <tr>\n",
       "      <td>38000</td>\n",
       "      <td>2.372700</td>\n",
       "      <td>2.275959</td>\n",
       "    </tr>\n",
       "    <tr>\n",
       "      <td>40000</td>\n",
       "      <td>2.361200</td>\n",
       "      <td>2.263546</td>\n",
       "    </tr>\n",
       "    <tr>\n",
       "      <td>42000</td>\n",
       "      <td>2.349800</td>\n",
       "      <td>2.250863</td>\n",
       "    </tr>\n",
       "    <tr>\n",
       "      <td>44000</td>\n",
       "      <td>2.337600</td>\n",
       "      <td>2.238824</td>\n",
       "    </tr>\n",
       "    <tr>\n",
       "      <td>46000</td>\n",
       "      <td>2.326200</td>\n",
       "      <td>2.228168</td>\n",
       "    </tr>\n",
       "    <tr>\n",
       "      <td>48000</td>\n",
       "      <td>2.317700</td>\n",
       "      <td>2.217722</td>\n",
       "    </tr>\n",
       "  </tbody>\n",
       "</table><p>"
      ],
      "text/plain": [
       "<IPython.core.display.HTML object>"
      ]
     },
     "metadata": {},
     "output_type": "display_data"
    },
    {
     "name": "stderr",
     "output_type": "stream",
     "text": [
      "***** Running Evaluation *****\n",
      "  Num examples = 34382\n",
      "  Batch size = 24\n",
      "Saving model checkpoint to /root/model/gpt2/train/chinese_gpt2_big/checkpoint-2000\n",
      "Configuration saved in /root/model/gpt2/train/chinese_gpt2_big/checkpoint-2000/config.json\n",
      "Model weights saved in /root/model/gpt2/train/chinese_gpt2_big/checkpoint-2000/pytorch_model.bin\n",
      "tokenizer config file saved in /root/model/gpt2/train/chinese_gpt2_big/checkpoint-2000/tokenizer_config.json\n",
      "Special tokens file saved in /root/model/gpt2/train/chinese_gpt2_big/checkpoint-2000/special_tokens_map.json\n",
      "***** Running Evaluation *****\n",
      "  Num examples = 34382\n",
      "  Batch size = 24\n",
      "Saving model checkpoint to /root/model/gpt2/train/chinese_gpt2_big/checkpoint-4000\n",
      "Configuration saved in /root/model/gpt2/train/chinese_gpt2_big/checkpoint-4000/config.json\n",
      "Model weights saved in /root/model/gpt2/train/chinese_gpt2_big/checkpoint-4000/pytorch_model.bin\n",
      "tokenizer config file saved in /root/model/gpt2/train/chinese_gpt2_big/checkpoint-4000/tokenizer_config.json\n",
      "Special tokens file saved in /root/model/gpt2/train/chinese_gpt2_big/checkpoint-4000/special_tokens_map.json\n",
      "***** Running Evaluation *****\n",
      "  Num examples = 34382\n",
      "  Batch size = 24\n",
      "Saving model checkpoint to /root/model/gpt2/train/chinese_gpt2_big/checkpoint-6000\n",
      "Configuration saved in /root/model/gpt2/train/chinese_gpt2_big/checkpoint-6000/config.json\n",
      "Model weights saved in /root/model/gpt2/train/chinese_gpt2_big/checkpoint-6000/pytorch_model.bin\n",
      "tokenizer config file saved in /root/model/gpt2/train/chinese_gpt2_big/checkpoint-6000/tokenizer_config.json\n",
      "Special tokens file saved in /root/model/gpt2/train/chinese_gpt2_big/checkpoint-6000/special_tokens_map.json\n",
      "***** Running Evaluation *****\n",
      "  Num examples = 34382\n",
      "  Batch size = 24\n",
      "Saving model checkpoint to /root/model/gpt2/train/chinese_gpt2_big/checkpoint-8000\n",
      "Configuration saved in /root/model/gpt2/train/chinese_gpt2_big/checkpoint-8000/config.json\n",
      "Model weights saved in /root/model/gpt2/train/chinese_gpt2_big/checkpoint-8000/pytorch_model.bin\n",
      "tokenizer config file saved in /root/model/gpt2/train/chinese_gpt2_big/checkpoint-8000/tokenizer_config.json\n",
      "Special tokens file saved in /root/model/gpt2/train/chinese_gpt2_big/checkpoint-8000/special_tokens_map.json\n",
      "***** Running Evaluation *****\n",
      "  Num examples = 34382\n",
      "  Batch size = 24\n",
      "Saving model checkpoint to /root/model/gpt2/train/chinese_gpt2_big/checkpoint-10000\n",
      "Configuration saved in /root/model/gpt2/train/chinese_gpt2_big/checkpoint-10000/config.json\n",
      "Model weights saved in /root/model/gpt2/train/chinese_gpt2_big/checkpoint-10000/pytorch_model.bin\n",
      "tokenizer config file saved in /root/model/gpt2/train/chinese_gpt2_big/checkpoint-10000/tokenizer_config.json\n",
      "Special tokens file saved in /root/model/gpt2/train/chinese_gpt2_big/checkpoint-10000/special_tokens_map.json\n",
      "***** Running Evaluation *****\n",
      "  Num examples = 34382\n",
      "  Batch size = 24\n",
      "Saving model checkpoint to /root/model/gpt2/train/chinese_gpt2_big/checkpoint-12000\n",
      "Configuration saved in /root/model/gpt2/train/chinese_gpt2_big/checkpoint-12000/config.json\n",
      "Model weights saved in /root/model/gpt2/train/chinese_gpt2_big/checkpoint-12000/pytorch_model.bin\n",
      "tokenizer config file saved in /root/model/gpt2/train/chinese_gpt2_big/checkpoint-12000/tokenizer_config.json\n",
      "Special tokens file saved in /root/model/gpt2/train/chinese_gpt2_big/checkpoint-12000/special_tokens_map.json\n",
      "/usr/local/lib/python3.6/dist-packages/transformers/trainer.py:1310: FutureWarning: Non-finite norm encountered in torch.nn.utils.clip_grad_norm_; continuing anyway. Note that the default behavior will change in a future release to error out if a non-finite total norm is encountered. At that point, setting error_if_nonfinite=false will be required to retain the old behavior.\n",
      "  args.max_grad_norm,\n",
      "***** Running Evaluation *****\n",
      "  Num examples = 34382\n",
      "  Batch size = 24\n",
      "Saving model checkpoint to /root/model/gpt2/train/chinese_gpt2_big/checkpoint-14000\n",
      "Configuration saved in /root/model/gpt2/train/chinese_gpt2_big/checkpoint-14000/config.json\n",
      "Model weights saved in /root/model/gpt2/train/chinese_gpt2_big/checkpoint-14000/pytorch_model.bin\n",
      "tokenizer config file saved in /root/model/gpt2/train/chinese_gpt2_big/checkpoint-14000/tokenizer_config.json\n",
      "Special tokens file saved in /root/model/gpt2/train/chinese_gpt2_big/checkpoint-14000/special_tokens_map.json\n",
      "/usr/local/lib/python3.6/dist-packages/transformers/trainer.py:1310: FutureWarning: Non-finite norm encountered in torch.nn.utils.clip_grad_norm_; continuing anyway. Note that the default behavior will change in a future release to error out if a non-finite total norm is encountered. At that point, setting error_if_nonfinite=false will be required to retain the old behavior.\n",
      "  args.max_grad_norm,\n",
      "***** Running Evaluation *****\n",
      "  Num examples = 34382\n",
      "  Batch size = 24\n",
      "Saving model checkpoint to /root/model/gpt2/train/chinese_gpt2_big/checkpoint-16000\n",
      "Configuration saved in /root/model/gpt2/train/chinese_gpt2_big/checkpoint-16000/config.json\n",
      "Model weights saved in /root/model/gpt2/train/chinese_gpt2_big/checkpoint-16000/pytorch_model.bin\n",
      "tokenizer config file saved in /root/model/gpt2/train/chinese_gpt2_big/checkpoint-16000/tokenizer_config.json\n",
      "Special tokens file saved in /root/model/gpt2/train/chinese_gpt2_big/checkpoint-16000/special_tokens_map.json\n",
      "/usr/local/lib/python3.6/dist-packages/transformers/trainer.py:1310: FutureWarning: Non-finite norm encountered in torch.nn.utils.clip_grad_norm_; continuing anyway. Note that the default behavior will change in a future release to error out if a non-finite total norm is encountered. At that point, setting error_if_nonfinite=false will be required to retain the old behavior.\n",
      "  args.max_grad_norm,\n",
      "***** Running Evaluation *****\n",
      "  Num examples = 34382\n",
      "  Batch size = 24\n",
      "Saving model checkpoint to /root/model/gpt2/train/chinese_gpt2_big/checkpoint-18000\n",
      "Configuration saved in /root/model/gpt2/train/chinese_gpt2_big/checkpoint-18000/config.json\n",
      "Model weights saved in /root/model/gpt2/train/chinese_gpt2_big/checkpoint-18000/pytorch_model.bin\n",
      "tokenizer config file saved in /root/model/gpt2/train/chinese_gpt2_big/checkpoint-18000/tokenizer_config.json\n",
      "Special tokens file saved in /root/model/gpt2/train/chinese_gpt2_big/checkpoint-18000/special_tokens_map.json\n",
      "***** Running Evaluation *****\n",
      "  Num examples = 34382\n",
      "  Batch size = 24\n",
      "Saving model checkpoint to /root/model/gpt2/train/chinese_gpt2_big/checkpoint-20000\n",
      "Configuration saved in /root/model/gpt2/train/chinese_gpt2_big/checkpoint-20000/config.json\n",
      "Model weights saved in /root/model/gpt2/train/chinese_gpt2_big/checkpoint-20000/pytorch_model.bin\n",
      "tokenizer config file saved in /root/model/gpt2/train/chinese_gpt2_big/checkpoint-20000/tokenizer_config.json\n",
      "Special tokens file saved in /root/model/gpt2/train/chinese_gpt2_big/checkpoint-20000/special_tokens_map.json\n",
      "***** Running Evaluation *****\n",
      "  Num examples = 34382\n",
      "  Batch size = 24\n",
      "Saving model checkpoint to /root/model/gpt2/train/chinese_gpt2_big/checkpoint-22000\n",
      "Configuration saved in /root/model/gpt2/train/chinese_gpt2_big/checkpoint-22000/config.json\n",
      "Model weights saved in /root/model/gpt2/train/chinese_gpt2_big/checkpoint-22000/pytorch_model.bin\n",
      "tokenizer config file saved in /root/model/gpt2/train/chinese_gpt2_big/checkpoint-22000/tokenizer_config.json\n",
      "Special tokens file saved in /root/model/gpt2/train/chinese_gpt2_big/checkpoint-22000/special_tokens_map.json\n",
      "***** Running Evaluation *****\n",
      "  Num examples = 34382\n",
      "  Batch size = 24\n",
      "Saving model checkpoint to /root/model/gpt2/train/chinese_gpt2_big/checkpoint-24000\n",
      "Configuration saved in /root/model/gpt2/train/chinese_gpt2_big/checkpoint-24000/config.json\n",
      "Model weights saved in /root/model/gpt2/train/chinese_gpt2_big/checkpoint-24000/pytorch_model.bin\n",
      "tokenizer config file saved in /root/model/gpt2/train/chinese_gpt2_big/checkpoint-24000/tokenizer_config.json\n",
      "Special tokens file saved in /root/model/gpt2/train/chinese_gpt2_big/checkpoint-24000/special_tokens_map.json\n",
      "/usr/local/lib/python3.6/dist-packages/transformers/trainer.py:1310: FutureWarning: Non-finite norm encountered in torch.nn.utils.clip_grad_norm_; continuing anyway. Note that the default behavior will change in a future release to error out if a non-finite total norm is encountered. At that point, setting error_if_nonfinite=false will be required to retain the old behavior.\n",
      "  args.max_grad_norm,\n"
     ]
    },
    {
     "name": "stderr",
     "output_type": "stream",
     "text": [
      "***** Running Evaluation *****\n",
      "  Num examples = 34382\n",
      "  Batch size = 24\n",
      "Saving model checkpoint to /root/model/gpt2/train/chinese_gpt2_big/checkpoint-26000\n",
      "Configuration saved in /root/model/gpt2/train/chinese_gpt2_big/checkpoint-26000/config.json\n",
      "Model weights saved in /root/model/gpt2/train/chinese_gpt2_big/checkpoint-26000/pytorch_model.bin\n",
      "tokenizer config file saved in /root/model/gpt2/train/chinese_gpt2_big/checkpoint-26000/tokenizer_config.json\n",
      "Special tokens file saved in /root/model/gpt2/train/chinese_gpt2_big/checkpoint-26000/special_tokens_map.json\n",
      "/usr/local/lib/python3.6/dist-packages/transformers/trainer.py:1310: FutureWarning: Non-finite norm encountered in torch.nn.utils.clip_grad_norm_; continuing anyway. Note that the default behavior will change in a future release to error out if a non-finite total norm is encountered. At that point, setting error_if_nonfinite=false will be required to retain the old behavior.\n",
      "  args.max_grad_norm,\n",
      "***** Running Evaluation *****\n",
      "  Num examples = 34382\n",
      "  Batch size = 24\n",
      "Saving model checkpoint to /root/model/gpt2/train/chinese_gpt2_big/checkpoint-28000\n",
      "Configuration saved in /root/model/gpt2/train/chinese_gpt2_big/checkpoint-28000/config.json\n",
      "Model weights saved in /root/model/gpt2/train/chinese_gpt2_big/checkpoint-28000/pytorch_model.bin\n",
      "tokenizer config file saved in /root/model/gpt2/train/chinese_gpt2_big/checkpoint-28000/tokenizer_config.json\n",
      "Special tokens file saved in /root/model/gpt2/train/chinese_gpt2_big/checkpoint-28000/special_tokens_map.json\n",
      "***** Running Evaluation *****\n",
      "  Num examples = 34382\n",
      "  Batch size = 24\n",
      "Saving model checkpoint to /root/model/gpt2/train/chinese_gpt2_big/checkpoint-30000\n",
      "Configuration saved in /root/model/gpt2/train/chinese_gpt2_big/checkpoint-30000/config.json\n",
      "Model weights saved in /root/model/gpt2/train/chinese_gpt2_big/checkpoint-30000/pytorch_model.bin\n",
      "tokenizer config file saved in /root/model/gpt2/train/chinese_gpt2_big/checkpoint-30000/tokenizer_config.json\n",
      "Special tokens file saved in /root/model/gpt2/train/chinese_gpt2_big/checkpoint-30000/special_tokens_map.json\n",
      "***** Running Evaluation *****\n",
      "  Num examples = 34382\n",
      "  Batch size = 24\n",
      "Saving model checkpoint to /root/model/gpt2/train/chinese_gpt2_big/checkpoint-32000\n",
      "Configuration saved in /root/model/gpt2/train/chinese_gpt2_big/checkpoint-32000/config.json\n",
      "Model weights saved in /root/model/gpt2/train/chinese_gpt2_big/checkpoint-32000/pytorch_model.bin\n",
      "tokenizer config file saved in /root/model/gpt2/train/chinese_gpt2_big/checkpoint-32000/tokenizer_config.json\n",
      "Special tokens file saved in /root/model/gpt2/train/chinese_gpt2_big/checkpoint-32000/special_tokens_map.json\n",
      "***** Running Evaluation *****\n",
      "  Num examples = 34382\n",
      "  Batch size = 24\n",
      "Saving model checkpoint to /root/model/gpt2/train/chinese_gpt2_big/checkpoint-34000\n",
      "Configuration saved in /root/model/gpt2/train/chinese_gpt2_big/checkpoint-34000/config.json\n",
      "Model weights saved in /root/model/gpt2/train/chinese_gpt2_big/checkpoint-34000/pytorch_model.bin\n",
      "tokenizer config file saved in /root/model/gpt2/train/chinese_gpt2_big/checkpoint-34000/tokenizer_config.json\n",
      "Special tokens file saved in /root/model/gpt2/train/chinese_gpt2_big/checkpoint-34000/special_tokens_map.json\n",
      "***** Running Evaluation *****\n",
      "  Num examples = 34382\n",
      "  Batch size = 24\n",
      "Saving model checkpoint to /root/model/gpt2/train/chinese_gpt2_big/checkpoint-36000\n",
      "Configuration saved in /root/model/gpt2/train/chinese_gpt2_big/checkpoint-36000/config.json\n",
      "Model weights saved in /root/model/gpt2/train/chinese_gpt2_big/checkpoint-36000/pytorch_model.bin\n",
      "tokenizer config file saved in /root/model/gpt2/train/chinese_gpt2_big/checkpoint-36000/tokenizer_config.json\n",
      "Special tokens file saved in /root/model/gpt2/train/chinese_gpt2_big/checkpoint-36000/special_tokens_map.json\n",
      "/usr/local/lib/python3.6/dist-packages/transformers/trainer.py:1310: FutureWarning: Non-finite norm encountered in torch.nn.utils.clip_grad_norm_; continuing anyway. Note that the default behavior will change in a future release to error out if a non-finite total norm is encountered. At that point, setting error_if_nonfinite=false will be required to retain the old behavior.\n",
      "  args.max_grad_norm,\n",
      "***** Running Evaluation *****\n",
      "  Num examples = 34382\n",
      "  Batch size = 24\n",
      "Saving model checkpoint to /root/model/gpt2/train/chinese_gpt2_big/checkpoint-38000\n",
      "Configuration saved in /root/model/gpt2/train/chinese_gpt2_big/checkpoint-38000/config.json\n",
      "Model weights saved in /root/model/gpt2/train/chinese_gpt2_big/checkpoint-38000/pytorch_model.bin\n",
      "tokenizer config file saved in /root/model/gpt2/train/chinese_gpt2_big/checkpoint-38000/tokenizer_config.json\n",
      "Special tokens file saved in /root/model/gpt2/train/chinese_gpt2_big/checkpoint-38000/special_tokens_map.json\n",
      "***** Running Evaluation *****\n",
      "  Num examples = 34382\n",
      "  Batch size = 24\n",
      "Saving model checkpoint to /root/model/gpt2/train/chinese_gpt2_big/checkpoint-40000\n",
      "Configuration saved in /root/model/gpt2/train/chinese_gpt2_big/checkpoint-40000/config.json\n",
      "Model weights saved in /root/model/gpt2/train/chinese_gpt2_big/checkpoint-40000/pytorch_model.bin\n",
      "tokenizer config file saved in /root/model/gpt2/train/chinese_gpt2_big/checkpoint-40000/tokenizer_config.json\n",
      "Special tokens file saved in /root/model/gpt2/train/chinese_gpt2_big/checkpoint-40000/special_tokens_map.json\n",
      "***** Running Evaluation *****\n",
      "  Num examples = 34382\n",
      "  Batch size = 24\n",
      "Saving model checkpoint to /root/model/gpt2/train/chinese_gpt2_big/checkpoint-42000\n",
      "Configuration saved in /root/model/gpt2/train/chinese_gpt2_big/checkpoint-42000/config.json\n",
      "Model weights saved in /root/model/gpt2/train/chinese_gpt2_big/checkpoint-42000/pytorch_model.bin\n",
      "tokenizer config file saved in /root/model/gpt2/train/chinese_gpt2_big/checkpoint-42000/tokenizer_config.json\n",
      "Special tokens file saved in /root/model/gpt2/train/chinese_gpt2_big/checkpoint-42000/special_tokens_map.json\n",
      "/usr/local/lib/python3.6/dist-packages/transformers/trainer.py:1310: FutureWarning: Non-finite norm encountered in torch.nn.utils.clip_grad_norm_; continuing anyway. Note that the default behavior will change in a future release to error out if a non-finite total norm is encountered. At that point, setting error_if_nonfinite=false will be required to retain the old behavior.\n",
      "  args.max_grad_norm,\n",
      "***** Running Evaluation *****\n",
      "  Num examples = 34382\n",
      "  Batch size = 24\n",
      "Saving model checkpoint to /root/model/gpt2/train/chinese_gpt2_big/checkpoint-44000\n",
      "Configuration saved in /root/model/gpt2/train/chinese_gpt2_big/checkpoint-44000/config.json\n",
      "Model weights saved in /root/model/gpt2/train/chinese_gpt2_big/checkpoint-44000/pytorch_model.bin\n",
      "tokenizer config file saved in /root/model/gpt2/train/chinese_gpt2_big/checkpoint-44000/tokenizer_config.json\n",
      "Special tokens file saved in /root/model/gpt2/train/chinese_gpt2_big/checkpoint-44000/special_tokens_map.json\n",
      "/usr/local/lib/python3.6/dist-packages/transformers/trainer.py:1310: FutureWarning: Non-finite norm encountered in torch.nn.utils.clip_grad_norm_; continuing anyway. Note that the default behavior will change in a future release to error out if a non-finite total norm is encountered. At that point, setting error_if_nonfinite=false will be required to retain the old behavior.\n",
      "  args.max_grad_norm,\n",
      "***** Running Evaluation *****\n",
      "  Num examples = 34382\n",
      "  Batch size = 24\n",
      "Saving model checkpoint to /root/model/gpt2/train/chinese_gpt2_big/checkpoint-46000\n",
      "Configuration saved in /root/model/gpt2/train/chinese_gpt2_big/checkpoint-46000/config.json\n",
      "Model weights saved in /root/model/gpt2/train/chinese_gpt2_big/checkpoint-46000/pytorch_model.bin\n",
      "tokenizer config file saved in /root/model/gpt2/train/chinese_gpt2_big/checkpoint-46000/tokenizer_config.json\n",
      "Special tokens file saved in /root/model/gpt2/train/chinese_gpt2_big/checkpoint-46000/special_tokens_map.json\n",
      "/usr/local/lib/python3.6/dist-packages/transformers/trainer.py:1310: FutureWarning: Non-finite norm encountered in torch.nn.utils.clip_grad_norm_; continuing anyway. Note that the default behavior will change in a future release to error out if a non-finite total norm is encountered. At that point, setting error_if_nonfinite=false will be required to retain the old behavior.\n",
      "  args.max_grad_norm,\n"
     ]
    },
    {
     "name": "stderr",
     "output_type": "stream",
     "text": [
      "***** Running Evaluation *****\n",
      "  Num examples = 34382\n",
      "  Batch size = 24\n",
      "Saving model checkpoint to /root/model/gpt2/train/chinese_gpt2_big/checkpoint-48000\n",
      "Configuration saved in /root/model/gpt2/train/chinese_gpt2_big/checkpoint-48000/config.json\n",
      "Model weights saved in /root/model/gpt2/train/chinese_gpt2_big/checkpoint-48000/pytorch_model.bin\n",
      "tokenizer config file saved in /root/model/gpt2/train/chinese_gpt2_big/checkpoint-48000/tokenizer_config.json\n",
      "Special tokens file saved in /root/model/gpt2/train/chinese_gpt2_big/checkpoint-48000/special_tokens_map.json\n"
     ]
    }
   ],
   "source": [
    "trainer.train()"
   ]
  },
  {
   "cell_type": "code",
   "execution_count": null,
   "metadata": {},
   "outputs": [],
   "source": [
    "import torch\n",
    "\n",
    "# 保存模型\n",
    "torch.save(model.state_dict(), '/root/model/gpt2/gpt2.bin')"
   ]
  },
  {
   "cell_type": "code",
   "execution_count": null,
   "metadata": {},
   "outputs": [],
   "source": []
  },
  {
   "cell_type": "code",
   "execution_count": null,
   "metadata": {},
   "outputs": [],
   "source": []
  },
  {
   "cell_type": "code",
   "execution_count": null,
   "metadata": {},
   "outputs": [],
   "source": []
  },
  {
   "cell_type": "code",
   "execution_count": null,
   "metadata": {},
   "outputs": [],
   "source": []
  },
  {
   "cell_type": "code",
   "execution_count": null,
   "metadata": {},
   "outputs": [],
   "source": []
  },
  {
   "cell_type": "code",
   "execution_count": null,
   "metadata": {},
   "outputs": [],
   "source": []
  }
 ],
 "metadata": {
  "kernelspec": {
   "display_name": "Python 3",
   "language": "python",
   "name": "python3"
  },
  "language_info": {
   "codemirror_mode": {
    "name": "ipython",
    "version": 3
   },
   "file_extension": ".py",
   "mimetype": "text/x-python",
   "name": "python",
   "nbconvert_exporter": "python",
   "pygments_lexer": "ipython3",
   "version": "3.6.9"
  },
  "vscode": {
   "interpreter": {
    "hash": "110bc624a448454d574a0cd6cc76359fd86f75739e493913b3d71c2e04f2ffdb"
   }
  }
 },
 "nbformat": 4,
 "nbformat_minor": 4
}
