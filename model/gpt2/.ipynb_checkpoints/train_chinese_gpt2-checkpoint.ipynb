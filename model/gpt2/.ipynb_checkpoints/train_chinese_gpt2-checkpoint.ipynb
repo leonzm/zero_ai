{
 "cells": [
  {
   "cell_type": "markdown",
   "metadata": {},
   "source": [
    "# [训练一个中文GPT2](https://zhuanlan.zhihu.com/p/606339093)"
   ]
  },
  {
   "cell_type": "markdown",
   "metadata": {
    "jupyter": {
     "outputs_hidden": false
    }
   },
   "source": [
    "## 加载包和处理数据\n",
    "1. 我们只需要保证数据都含有content这一列\n",
    "2. 使用`glob`包，获得所有的数据的路径\n",
    "3. 我们使用`random`包，从所有的文件路径中，随机找50个数据路径，作为训练集合的使用"
   ]
  },
  {
   "cell_type": "code",
   "execution_count": 1,
   "metadata": {},
   "outputs": [
    {
     "data": {
      "text/plain": [
       "(9463, 50)"
      ]
     },
     "execution_count": 1,
     "metadata": {},
     "output_type": "execute_result"
    }
   ],
   "source": [
    "import random\n",
    "from glob import glob\n",
    "from datasets import load_dataset, DatasetDict\n",
    "\n",
    "random.seed(44)  # 随机种子\n",
    "\n",
    "all_file_list = glob(pathname=\"/root/dataset/gpt2_data/*/**\")\n",
    "test_file_list = random.sample(all_file_list, 50)\n",
    "train_file_list = [i for i in all_file_list if i not in test_file_list]\n",
    "\n",
    "len(train_file_list), len(test_file_list)"
   ]
  },
  {
   "cell_type": "code",
   "execution_count": null,
   "metadata": {},
   "outputs": [],
   "source": []
  },
  {
   "cell_type": "markdown",
   "metadata": {
    "jupyter": {
     "outputs_hidden": false
    }
   },
   "source": [
    "##  创建数据\n",
    "1. 只要将路径放到一个字典里面。dict的key分别为`train`、`valid`，他们对应的值就是文件路径列表即可"
   ]
  },
  {
   "cell_type": "code",
   "execution_count": 2,
   "metadata": {},
   "outputs": [
    {
     "data": {
      "application/vnd.jupyter.widget-view+json": {
       "model_id": "13ef29579f5e4f6ab3946c8684de244c",
       "version_major": 2,
       "version_minor": 0
      },
      "text/plain": [
       "Resolving data files:   0%|          | 0/9463 [00:00<?, ?it/s]"
      ]
     },
     "metadata": {},
     "output_type": "display_data"
    },
    {
     "data": {
      "application/vnd.jupyter.widget-view+json": {
       "model_id": "adfb668f8939478c975df61ae531fdc3",
       "version_major": 2,
       "version_minor": 0
      },
      "text/plain": [
       "Resolving data files:   0%|          | 0/50 [00:00<?, ?it/s]"
      ]
     },
     "metadata": {},
     "output_type": "display_data"
    },
    {
     "name": "stderr",
     "output_type": "stream",
     "text": [
      "Using custom data configuration default-3f54a3f7b8d40c50\n"
     ]
    },
    {
     "name": "stdout",
     "output_type": "stream",
     "text": [
      "Downloading and preparing dataset csv/default to cache_data/csv/default-3f54a3f7b8d40c50/0.0.0/652c3096f041ee27b04d2232d41f10547a8fecda3e284a79a0ec4053c916ef7a...\n"
     ]
    },
    {
     "data": {
      "application/vnd.jupyter.widget-view+json": {
       "model_id": "d5d119ba5b724538b8c9514b3374685c",
       "version_major": 2,
       "version_minor": 0
      },
      "text/plain": [
       "Downloading data files:   0%|          | 0/2 [00:00<?, ?it/s]"
      ]
     },
     "metadata": {},
     "output_type": "display_data"
    },
    {
     "data": {
      "application/vnd.jupyter.widget-view+json": {
       "model_id": "96c6910400ab4349ad5a7bbae28f10e6",
       "version_major": 2,
       "version_minor": 0
      },
      "text/plain": [
       "Extracting data files:   0%|          | 0/2 [00:00<?, ?it/s]"
      ]
     },
     "metadata": {},
     "output_type": "display_data"
    },
    {
     "data": {
      "application/vnd.jupyter.widget-view+json": {
       "model_id": "",
       "version_major": 2,
       "version_minor": 0
      },
      "text/plain": [
       "0 tables [00:00, ? tables/s]"
      ]
     },
     "metadata": {},
     "output_type": "display_data"
    },
    {
     "data": {
      "application/vnd.jupyter.widget-view+json": {
       "model_id": "",
       "version_major": 2,
       "version_minor": 0
      },
      "text/plain": [
       "0 tables [00:00, ? tables/s]"
      ]
     },
     "metadata": {},
     "output_type": "display_data"
    },
    {
     "name": "stdout",
     "output_type": "stream",
     "text": [
      "Dataset csv downloaded and prepared to cache_data/csv/default-3f54a3f7b8d40c50/0.0.0/652c3096f041ee27b04d2232d41f10547a8fecda3e284a79a0ec4053c916ef7a. Subsequent calls will reuse this data.\n"
     ]
    },
    {
     "data": {
      "application/vnd.jupyter.widget-view+json": {
       "model_id": "189bb4da83b54907b20ac3a9dcceae16",
       "version_major": 2,
       "version_minor": 0
      },
      "text/plain": [
       "  0%|          | 0/2 [00:00<?, ?it/s]"
      ]
     },
     "metadata": {},
     "output_type": "display_data"
    },
    {
     "data": {
      "text/plain": [
       "DatasetDict({\n",
       "    train: Dataset({\n",
       "        features: ['content', 'file_path'],\n",
       "        num_rows: 9228698\n",
       "    })\n",
       "    valid: Dataset({\n",
       "        features: ['content', 'file_path'],\n",
       "        num_rows: 50527\n",
       "    })\n",
       "})"
      ]
     },
     "execution_count": 2,
     "metadata": {},
     "output_type": "execute_result"
    }
   ],
   "source": [
    "raw_datasets = load_dataset(\"csv\",data_files={'train':train_file_list,'valid':test_file_list}, cache_dir=\"cache_data\")\n",
    "\n",
    "raw_datasets"
   ]
  },
  {
   "cell_type": "code",
   "execution_count": null,
   "metadata": {},
   "outputs": [],
   "source": []
  },
  {
   "cell_type": "markdown",
   "metadata": {
    "jupyter": {
     "outputs_hidden": false
    }
   },
   "source": [
    "## Tokenizer\n",
    "> 参考 [从头开始训练因果语言模型](https://huggingface.co/course/zh-CN/chapter7/6?fw=pt)。\n",
    "\n",
    "1. Tokenizer 是最关键的一步，因为我们处理的是中文，因此使用`bert_base_chinese`就足够了\n",
    "2. 如果你的语料里面有别的语言，你也可以使用多语言。这个都无所谓的。只要保证你使用的Tokenizer能覆盖你的数据即可\n",
    "3. `context_length = 512`设置你的每一个文本的最长长度，我这里设置的是512，如果你的显卡显寸小，那你可以改小一点，比如128。但是多出来的数据，并不是说直接截断不要了，而是按照`context_length`长度，不断的对文本进行截断，大概就像是下面这样的：\n",
    "\n",
    "<img src=\"https://huggingface.co/datasets/huggingface-course/documentation-images/resolve/main/en/chapter7/chunking_texts.svg\"/>\n",
    "\n",
    "4. 对于`gpt2`模型，需要告诉模型一句话从哪里开始，从哪里结束。因此我们需要设置`bos_token`、`eos_token`、`unk_token`\n",
    "\n"
   ]
  },
  {
   "cell_type": "code",
   "execution_count": 3,
   "metadata": {},
   "outputs": [
    {
     "name": "stdout",
     "output_type": "stream",
     "text": [
      "Input IDs length: 3\n",
      "Input chunk lengths: [512, 253, 82]\n",
      "Chunk mapping: [0, 0, 1]\n"
     ]
    }
   ],
   "source": [
    "from transformers import AutoTokenizer, AutoConfig\n",
    "\n",
    "context_length = 512\n",
    "tokenizer = AutoTokenizer.from_pretrained(\"/root/model/bert-base-chinese\")\n",
    "\n",
    "# 测试 tokenizer\n",
    "outputs = tokenizer(\n",
    "    raw_datasets[\"train\"][:2][\"content\"],\n",
    "    truncation=True,\n",
    "    max_length=context_length,\n",
    "    return_overflowing_tokens=True,\n",
    "    return_length=True,\n",
    ")\n",
    "\n",
    "print(f\"Input IDs length: {len(outputs['input_ids'])}\")\n",
    "print(f\"Input chunk lengths: {(outputs['length'])}\")\n",
    "print(f\"Chunk mapping: {outputs['overflow_to_sample_mapping']}\")"
   ]
  },
  {
   "cell_type": "code",
   "execution_count": 4,
   "metadata": {},
   "outputs": [
    {
     "data": {
      "text/plain": [
       "1"
      ]
     },
     "execution_count": 4,
     "metadata": {},
     "output_type": "execute_result"
    }
   ],
   "source": [
    "tokenizer.add_special_tokens(special_tokens_dict={'bos_token': '<|endoftext|>',\n",
    " 'eos_token': '<|endoftext|>',\n",
    " 'unk_token': '<|endoftext|>'})"
   ]
  },
  {
   "cell_type": "code",
   "execution_count": 5,
   "metadata": {},
   "outputs": [
    {
     "data": {
      "application/vnd.jupyter.widget-view+json": {
       "model_id": "1f7701979dda4d21a2b7d3669a09f009",
       "version_major": 2,
       "version_minor": 0
      },
      "text/plain": [
       "  0%|          | 0/9229 [00:00<?, ?ba/s]"
      ]
     },
     "metadata": {},
     "output_type": "display_data"
    },
    {
     "data": {
      "application/vnd.jupyter.widget-view+json": {
       "model_id": "cac72c872de0478490f5e23f64df5295",
       "version_major": 2,
       "version_minor": 0
      },
      "text/plain": [
       "  0%|          | 0/51 [00:00<?, ?ba/s]"
      ]
     },
     "metadata": {},
     "output_type": "display_data"
    },
    {
     "data": {
      "text/plain": [
       "DatasetDict({\n",
       "    train: Dataset({\n",
       "        features: ['input_ids'],\n",
       "        num_rows: 6175754\n",
       "    })\n",
       "    valid: Dataset({\n",
       "        features: ['input_ids'],\n",
       "        num_rows: 34382\n",
       "    })\n",
       "})"
      ]
     },
     "execution_count": 5,
     "metadata": {},
     "output_type": "execute_result"
    }
   ],
   "source": [
    "def tokenize(element):\n",
    "    outputs = tokenizer(\n",
    "        element[\"content\"],\n",
    "        truncation=True,\n",
    "        max_length=context_length,\n",
    "        return_overflowing_tokens=True,\n",
    "        return_length=True,\n",
    "    )\n",
    "    input_batch = []\n",
    "    for length, input_ids in zip(outputs[\"length\"], outputs[\"input_ids\"]):\n",
    "        if length == context_length:\n",
    "            input_batch.append(input_ids)\n",
    "    return {\"input_ids\": input_batch}\n",
    "\n",
    "\n",
    "# 样本处理\n",
    "tokenized_datasets = raw_datasets.map(\n",
    "    tokenize, batched=True, remove_columns=raw_datasets[\"train\"].column_names\n",
    ")\n",
    "tokenized_datasets"
   ]
  },
  {
   "cell_type": "code",
   "execution_count": null,
   "metadata": {},
   "outputs": [],
   "source": []
  },
  {
   "cell_type": "markdown",
   "metadata": {
    "jupyter": {
     "outputs_hidden": false
    }
   },
   "source": [
    "## 模型\n",
    "1. 这里的`gpt2`模型，可不是使用别人训练好的，就是一个gpt2配置，因为我们要使用这个从头训练一个新的`gpt2`"
   ]
  },
  {
   "cell_type": "code",
   "execution_count": 6,
   "metadata": {},
   "outputs": [],
   "source": [
    "from transformers import AutoTokenizer, GPT2LMHeadModel, AutoConfig\n",
    "\n",
    "# config = AutoConfig.from_pretrained(\n",
    "#     \"gpt2\",\n",
    "#     vocab_size=len(tokenizer),\n",
    "#     n_ctx=context_length,\n",
    "#     bos_token_id=tokenizer.bos_token_id,\n",
    "#     eos_token_id=tokenizer.eos_token_id,\n",
    "# )\n",
    "config = AutoConfig.from_pretrained(\n",
    "    \"/root/model/gpt2\",\n",
    "    vocab_size=len(tokenizer),\n",
    "    n_ctx=context_length,\n",
    "    bos_token_id=tokenizer.bos_token_id,\n",
    "    eos_token_id=tokenizer.eos_token_id,\n",
    ")"
   ]
  },
  {
   "cell_type": "code",
   "execution_count": 7,
   "metadata": {},
   "outputs": [
    {
     "name": "stdout",
     "output_type": "stream",
     "text": [
      "GPT-2 size: 102.1M parameters\n"
     ]
    }
   ],
   "source": [
    "model = GPT2LMHeadModel(config)\n",
    "model_size = sum(t.numel() for t in model.parameters())\n",
    "print(f\"GPT-2 size: {model_size/1000**2:.1f}M parameters\")"
   ]
  },
  {
   "cell_type": "code",
   "execution_count": 8,
   "metadata": {},
   "outputs": [],
   "source": [
    "from transformers import DataCollatorForLanguageModeling\n",
    "\n",
    "tokenizer.pad_token = tokenizer.eos_token\n",
    "data_collator = DataCollatorForLanguageModeling(tokenizer, mlm=False)"
   ]
  },
  {
   "cell_type": "code",
   "execution_count": 9,
   "metadata": {},
   "outputs": [
    {
     "name": "stdout",
     "output_type": "stream",
     "text": [
      "input_ids shape: torch.Size([5, 512])\n",
      "attention_mask shape: torch.Size([5, 512])\n",
      "labels shape: torch.Size([5, 512])\n"
     ]
    }
   ],
   "source": [
    "out = data_collator([tokenized_datasets[\"train\"][i] for i in range(5)])\n",
    "for key in out:\n",
    "    print(f\"{key} shape: {out[key].shape}\")"
   ]
  },
  {
   "cell_type": "code",
   "execution_count": 10,
   "metadata": {},
   "outputs": [
    {
     "name": "stderr",
     "output_type": "stream",
     "text": [
      "Using amp fp16 backend\n"
     ]
    }
   ],
   "source": [
    "from transformers import Trainer, TrainingArguments\n",
    "\n",
    "args = TrainingArguments(\n",
    "    output_dir=\"/root/model/gpt2/train/chinese_gpt2_big\",\n",
    "    per_device_train_batch_size=24,\n",
    "    per_device_eval_batch_size=24,\n",
    "    evaluation_strategy=\"steps\",\n",
    "    eval_steps=2_000,\n",
    "    logging_steps=2_000,\n",
    "    gradient_accumulation_steps=8,\n",
    "    num_train_epochs=2,\n",
    "    weight_decay=0.1,\n",
    "    warmup_steps=1_000,\n",
    "    lr_scheduler_type=\"cosine\",\n",
    "    learning_rate=5e-4,\n",
    "    save_steps=2_0000,\n",
    "    fp16=True,\n",
    "    push_to_hub=False,\n",
    ")\n",
    "\n",
    "trainer = Trainer(\n",
    "    model=model,\n",
    "    tokenizer=tokenizer,\n",
    "    args=args,\n",
    "    data_collator=data_collator,\n",
    "    train_dataset=tokenized_datasets[\"train\"],\n",
    "    eval_dataset=tokenized_datasets[\"valid\"],\n",
    ")"
   ]
  },
  {
   "cell_type": "code",
   "execution_count": 11,
   "metadata": {
    "scrolled": true
   },
   "outputs": [
    {
     "name": "stderr",
     "output_type": "stream",
     "text": [
      "***** Running training *****\n",
      "  Num examples = 6175754\n",
      "  Num Epochs = 2\n",
      "  Instantaneous batch size per device = 24\n",
      "  Total train batch size (w. parallel, distributed & accumulation) = 192\n",
      "  Gradient Accumulation steps = 8\n",
      "  Total optimization steps = 64330\n"
     ]
    },
    {
     "data": {
      "text/html": [
       "\n",
       "    <div>\n",
       "      \n",
       "      <progress value='64330' max='64330' style='width:300px; height:20px; vertical-align: middle;'></progress>\n",
       "      [64330/64330 77:47:25, Epoch 1/2]\n",
       "    </div>\n",
       "    <table border=\"1\" class=\"dataframe\">\n",
       "  <thead>\n",
       "    <tr style=\"text-align: left;\">\n",
       "      <th>Step</th>\n",
       "      <th>Training Loss</th>\n",
       "      <th>Validation Loss</th>\n",
       "    </tr>\n",
       "  </thead>\n",
       "  <tbody>\n",
       "    <tr>\n",
       "      <td>2000</td>\n",
       "      <td>4.214000</td>\n",
       "      <td>2.988479</td>\n",
       "    </tr>\n",
       "    <tr>\n",
       "      <td>4000</td>\n",
       "      <td>2.933100</td>\n",
       "      <td>2.733274</td>\n",
       "    </tr>\n",
       "    <tr>\n",
       "      <td>6000</td>\n",
       "      <td>2.773500</td>\n",
       "      <td>2.630356</td>\n",
       "    </tr>\n",
       "    <tr>\n",
       "      <td>8000</td>\n",
       "      <td>2.688700</td>\n",
       "      <td>2.565998</td>\n",
       "    </tr>\n",
       "    <tr>\n",
       "      <td>10000</td>\n",
       "      <td>2.633400</td>\n",
       "      <td>2.518783</td>\n",
       "    </tr>\n",
       "    <tr>\n",
       "      <td>12000</td>\n",
       "      <td>2.593300</td>\n",
       "      <td>2.484987</td>\n",
       "    </tr>\n",
       "    <tr>\n",
       "      <td>14000</td>\n",
       "      <td>2.562500</td>\n",
       "      <td>2.457442</td>\n",
       "    </tr>\n",
       "    <tr>\n",
       "      <td>16000</td>\n",
       "      <td>2.537200</td>\n",
       "      <td>2.433167</td>\n",
       "    </tr>\n",
       "    <tr>\n",
       "      <td>18000</td>\n",
       "      <td>2.515000</td>\n",
       "      <td>2.413198</td>\n",
       "    </tr>\n",
       "    <tr>\n",
       "      <td>20000</td>\n",
       "      <td>2.495600</td>\n",
       "      <td>2.394620</td>\n",
       "    </tr>\n",
       "    <tr>\n",
       "      <td>22000</td>\n",
       "      <td>2.481300</td>\n",
       "      <td>2.377434</td>\n",
       "    </tr>\n",
       "    <tr>\n",
       "      <td>24000</td>\n",
       "      <td>2.465500</td>\n",
       "      <td>2.365096</td>\n",
       "    </tr>\n",
       "    <tr>\n",
       "      <td>26000</td>\n",
       "      <td>2.448600</td>\n",
       "      <td>2.348212</td>\n",
       "    </tr>\n",
       "    <tr>\n",
       "      <td>28000</td>\n",
       "      <td>2.435200</td>\n",
       "      <td>2.332306</td>\n",
       "    </tr>\n",
       "    <tr>\n",
       "      <td>30000</td>\n",
       "      <td>2.422200</td>\n",
       "      <td>2.319767</td>\n",
       "    </tr>\n",
       "    <tr>\n",
       "      <td>32000</td>\n",
       "      <td>2.411400</td>\n",
       "      <td>2.306539</td>\n",
       "    </tr>\n",
       "    <tr>\n",
       "      <td>34000</td>\n",
       "      <td>2.388000</td>\n",
       "      <td>2.292852</td>\n",
       "    </tr>\n",
       "    <tr>\n",
       "      <td>36000</td>\n",
       "      <td>2.377300</td>\n",
       "      <td>2.280517</td>\n",
       "    </tr>\n",
       "    <tr>\n",
       "      <td>38000</td>\n",
       "      <td>2.366700</td>\n",
       "      <td>2.268935</td>\n",
       "    </tr>\n",
       "    <tr>\n",
       "      <td>40000</td>\n",
       "      <td>2.355200</td>\n",
       "      <td>2.255995</td>\n",
       "    </tr>\n",
       "    <tr>\n",
       "      <td>42000</td>\n",
       "      <td>2.343900</td>\n",
       "      <td>2.244898</td>\n",
       "    </tr>\n",
       "    <tr>\n",
       "      <td>44000</td>\n",
       "      <td>2.332000</td>\n",
       "      <td>2.232614</td>\n",
       "    </tr>\n",
       "    <tr>\n",
       "      <td>46000</td>\n",
       "      <td>2.320700</td>\n",
       "      <td>2.222170</td>\n",
       "    </tr>\n",
       "    <tr>\n",
       "      <td>48000</td>\n",
       "      <td>2.312400</td>\n",
       "      <td>2.211965</td>\n",
       "    </tr>\n",
       "    <tr>\n",
       "      <td>50000</td>\n",
       "      <td>2.304400</td>\n",
       "      <td>2.203219</td>\n",
       "    </tr>\n",
       "    <tr>\n",
       "      <td>52000</td>\n",
       "      <td>2.296600</td>\n",
       "      <td>2.194940</td>\n",
       "    </tr>\n",
       "    <tr>\n",
       "      <td>54000</td>\n",
       "      <td>2.289300</td>\n",
       "      <td>2.188761</td>\n",
       "    </tr>\n",
       "    <tr>\n",
       "      <td>56000</td>\n",
       "      <td>2.283900</td>\n",
       "      <td>2.182887</td>\n",
       "    </tr>\n",
       "    <tr>\n",
       "      <td>58000</td>\n",
       "      <td>2.278200</td>\n",
       "      <td>2.179060</td>\n",
       "    </tr>\n",
       "    <tr>\n",
       "      <td>60000</td>\n",
       "      <td>2.275800</td>\n",
       "      <td>2.176377</td>\n",
       "    </tr>\n",
       "    <tr>\n",
       "      <td>62000</td>\n",
       "      <td>2.273500</td>\n",
       "      <td>2.175356</td>\n",
       "    </tr>\n",
       "    <tr>\n",
       "      <td>64000</td>\n",
       "      <td>2.272300</td>\n",
       "      <td>2.174969</td>\n",
       "    </tr>\n",
       "  </tbody>\n",
       "</table><p>"
      ],
      "text/plain": [
       "<IPython.core.display.HTML object>"
      ]
     },
     "metadata": {},
     "output_type": "display_data"
    },
    {
     "name": "stderr",
     "output_type": "stream",
     "text": [
      "***** Running Evaluation *****\n",
      "  Num examples = 34382\n",
      "  Batch size = 24\n",
      "***** Running Evaluation *****\n",
      "  Num examples = 34382\n",
      "  Batch size = 24\n",
      "***** Running Evaluation *****\n",
      "  Num examples = 34382\n",
      "  Batch size = 24\n",
      "***** Running Evaluation *****\n",
      "  Num examples = 34382\n",
      "  Batch size = 24\n",
      "***** Running Evaluation *****\n",
      "  Num examples = 34382\n",
      "  Batch size = 24\n",
      "/usr/local/lib/python3.6/dist-packages/transformers/trainer.py:1310: FutureWarning: Non-finite norm encountered in torch.nn.utils.clip_grad_norm_; continuing anyway. Note that the default behavior will change in a future release to error out if a non-finite total norm is encountered. At that point, setting error_if_nonfinite=false will be required to retain the old behavior.\n",
      "  args.max_grad_norm,\n",
      "***** Running Evaluation *****\n",
      "  Num examples = 34382\n",
      "  Batch size = 24\n",
      "***** Running Evaluation *****\n",
      "  Num examples = 34382\n",
      "  Batch size = 24\n",
      "***** Running Evaluation *****\n",
      "  Num examples = 34382\n",
      "  Batch size = 24\n",
      "***** Running Evaluation *****\n",
      "  Num examples = 34382\n",
      "  Batch size = 24\n",
      "***** Running Evaluation *****\n",
      "  Num examples = 34382\n",
      "  Batch size = 24\n",
      "Saving model checkpoint to /root/model/gpt2/train/chinese_gpt2_big/checkpoint-20000\n",
      "Configuration saved in /root/model/gpt2/train/chinese_gpt2_big/checkpoint-20000/config.json\n",
      "Model weights saved in /root/model/gpt2/train/chinese_gpt2_big/checkpoint-20000/pytorch_model.bin\n",
      "tokenizer config file saved in /root/model/gpt2/train/chinese_gpt2_big/checkpoint-20000/tokenizer_config.json\n",
      "Special tokens file saved in /root/model/gpt2/train/chinese_gpt2_big/checkpoint-20000/special_tokens_map.json\n",
      "/usr/local/lib/python3.6/dist-packages/transformers/trainer.py:1310: FutureWarning: Non-finite norm encountered in torch.nn.utils.clip_grad_norm_; continuing anyway. Note that the default behavior will change in a future release to error out if a non-finite total norm is encountered. At that point, setting error_if_nonfinite=false will be required to retain the old behavior.\n",
      "  args.max_grad_norm,\n",
      "***** Running Evaluation *****\n",
      "  Num examples = 34382\n",
      "  Batch size = 24\n",
      "***** Running Evaluation *****\n",
      "  Num examples = 34382\n",
      "  Batch size = 24\n",
      "***** Running Evaluation *****\n",
      "  Num examples = 34382\n",
      "  Batch size = 24\n",
      "***** Running Evaluation *****\n",
      "  Num examples = 34382\n",
      "  Batch size = 24\n",
      "***** Running Evaluation *****\n",
      "  Num examples = 34382\n",
      "  Batch size = 24\n",
      "***** Running Evaluation *****\n",
      "  Num examples = 34382\n",
      "  Batch size = 24\n",
      "***** Running Evaluation *****\n",
      "  Num examples = 34382\n",
      "  Batch size = 24\n",
      "***** Running Evaluation *****\n",
      "  Num examples = 34382\n",
      "  Batch size = 24\n",
      "***** Running Evaluation *****\n",
      "  Num examples = 34382\n",
      "  Batch size = 24\n",
      "***** Running Evaluation *****\n",
      "  Num examples = 34382\n",
      "  Batch size = 24\n",
      "Saving model checkpoint to /root/model/gpt2/train/chinese_gpt2_big/checkpoint-40000\n",
      "Configuration saved in /root/model/gpt2/train/chinese_gpt2_big/checkpoint-40000/config.json\n",
      "Model weights saved in /root/model/gpt2/train/chinese_gpt2_big/checkpoint-40000/pytorch_model.bin\n",
      "tokenizer config file saved in /root/model/gpt2/train/chinese_gpt2_big/checkpoint-40000/tokenizer_config.json\n",
      "Special tokens file saved in /root/model/gpt2/train/chinese_gpt2_big/checkpoint-40000/special_tokens_map.json\n",
      "***** Running Evaluation *****\n",
      "  Num examples = 34382\n",
      "  Batch size = 24\n",
      "***** Running Evaluation *****\n",
      "  Num examples = 34382\n",
      "  Batch size = 24\n",
      "/usr/local/lib/python3.6/dist-packages/transformers/trainer.py:1310: FutureWarning: Non-finite norm encountered in torch.nn.utils.clip_grad_norm_; continuing anyway. Note that the default behavior will change in a future release to error out if a non-finite total norm is encountered. At that point, setting error_if_nonfinite=false will be required to retain the old behavior.\n",
      "  args.max_grad_norm,\n",
      "***** Running Evaluation *****\n",
      "  Num examples = 34382\n",
      "  Batch size = 24\n",
      "***** Running Evaluation *****\n",
      "  Num examples = 34382\n",
      "  Batch size = 24\n",
      "***** Running Evaluation *****\n",
      "  Num examples = 34382\n",
      "  Batch size = 24\n",
      "***** Running Evaluation *****\n",
      "  Num examples = 34382\n",
      "  Batch size = 24\n",
      "***** Running Evaluation *****\n",
      "  Num examples = 34382\n",
      "  Batch size = 24\n",
      "***** Running Evaluation *****\n",
      "  Num examples = 34382\n",
      "  Batch size = 24\n",
      "***** Running Evaluation *****\n",
      "  Num examples = 34382\n",
      "  Batch size = 24\n",
      "***** Running Evaluation *****\n",
      "  Num examples = 34382\n",
      "  Batch size = 24\n",
      "Saving model checkpoint to /root/model/gpt2/train/chinese_gpt2_big/checkpoint-60000\n",
      "Configuration saved in /root/model/gpt2/train/chinese_gpt2_big/checkpoint-60000/config.json\n",
      "Model weights saved in /root/model/gpt2/train/chinese_gpt2_big/checkpoint-60000/pytorch_model.bin\n",
      "tokenizer config file saved in /root/model/gpt2/train/chinese_gpt2_big/checkpoint-60000/tokenizer_config.json\n",
      "Special tokens file saved in /root/model/gpt2/train/chinese_gpt2_big/checkpoint-60000/special_tokens_map.json\n",
      "/usr/local/lib/python3.6/dist-packages/transformers/trainer.py:1310: FutureWarning: Non-finite norm encountered in torch.nn.utils.clip_grad_norm_; continuing anyway. Note that the default behavior will change in a future release to error out if a non-finite total norm is encountered. At that point, setting error_if_nonfinite=false will be required to retain the old behavior.\n",
      "  args.max_grad_norm,\n",
      "***** Running Evaluation *****\n",
      "  Num examples = 34382\n",
      "  Batch size = 24\n",
      "***** Running Evaluation *****\n",
      "  Num examples = 34382\n",
      "  Batch size = 24\n",
      "\n",
      "\n",
      "Training completed. Do not forget to share your model on huggingface.co/models =)\n",
      "\n",
      "\n"
     ]
    },
    {
     "data": {
      "text/plain": [
       "TrainOutput(global_step=64330, training_loss=2.4888972221480063, metrics={'train_runtime': 280050.64, 'train_samples_per_second': 44.105, 'train_steps_per_second': 0.23, 'total_flos': 3.227331287973888e+18, 'train_loss': 2.4888972221480063, 'epoch': 2.0})"
      ]
     },
     "execution_count": 11,
     "metadata": {},
     "output_type": "execute_result"
    }
   ],
   "source": [
    "trainer.train()"
   ]
  },
  {
   "cell_type": "code",
   "execution_count": 12,
   "metadata": {},
   "outputs": [],
   "source": [
    "import torch\n",
    "\n",
    "# 保存模型\n",
    "torch.save(model.state_dict(), '/root/model/gpt2/gpt2.bin')"
   ]
  },
  {
   "cell_type": "code",
   "execution_count": null,
   "metadata": {},
   "outputs": [],
   "source": []
  },
  {
   "cell_type": "code",
   "execution_count": null,
   "metadata": {},
   "outputs": [],
   "source": []
  },
  {
   "cell_type": "code",
   "execution_count": null,
   "metadata": {},
   "outputs": [],
   "source": []
  },
  {
   "cell_type": "code",
   "execution_count": null,
   "metadata": {},
   "outputs": [],
   "source": []
  },
  {
   "cell_type": "code",
   "execution_count": null,
   "metadata": {},
   "outputs": [],
   "source": []
  },
  {
   "cell_type": "code",
   "execution_count": null,
   "metadata": {},
   "outputs": [],
   "source": []
  }
 ],
 "metadata": {
  "kernelspec": {
   "display_name": "Python 3",
   "language": "python",
   "name": "python3"
  },
  "language_info": {
   "codemirror_mode": {
    "name": "ipython",
    "version": 3
   },
   "file_extension": ".py",
   "mimetype": "text/x-python",
   "name": "python",
   "nbconvert_exporter": "python",
   "pygments_lexer": "ipython3",
   "version": "3.6.9"
  },
  "vscode": {
   "interpreter": {
    "hash": "110bc624a448454d574a0cd6cc76359fd86f75739e493913b3d71c2e04f2ffdb"
   }
  }
 },
 "nbformat": 4,
 "nbformat_minor": 4
}
