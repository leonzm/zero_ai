{
 "cells": [
  {
   "cell_type": "markdown",
   "id": "e63918e7-c634-4cf6-9f84-5fcc8649a054",
   "metadata": {},
   "source": [
    "# [Bert-base-Chinese 微调](https://blog.csdn.net/qq_43668800/article/details/131921617)"
   ]
  },
  {
   "cell_type": "code",
   "execution_count": 1,
   "id": "1462af61-18f0-467e-b89d-6531d8a9cce6",
   "metadata": {},
   "outputs": [],
   "source": [
    "import torch\n",
    "from torch.optim import AdamW\n",
    "from datasets import load_dataset\n",
    "from transformers import BertModel, BertTokenizer"
   ]
  },
  {
   "cell_type": "markdown",
   "id": "0bfaa09d-acc0-4a83-b133-06810c6458e2",
   "metadata": {},
   "source": [
    "## 模型"
   ]
  },
  {
   "cell_type": "code",
   "execution_count": 2,
   "id": "0713561e-aed0-4215-b32c-e2a5944d5bd8",
   "metadata": {},
   "outputs": [
    {
     "name": "stdout",
     "output_type": "stream",
     "text": [
      "device= cuda\n"
     ]
    }
   ],
   "source": [
    "# 优先使用 GPU\n",
    "device = 'cuda' if torch.cuda.is_available() else 'cpu'\n",
    "print('device=', device)"
   ]
  },
  {
   "cell_type": "code",
   "execution_count": 3,
   "id": "6332398b-afed-4dc2-9ae8-de3994bf2495",
   "metadata": {},
   "outputs": [
    {
     "name": "stderr",
     "output_type": "stream",
     "text": [
      "Some weights of the model checkpoint at bert-base-chinese were not used when initializing BertModel: ['cls.predictions.decoder.weight', 'cls.predictions.transform.LayerNorm.bias', 'cls.seq_relationship.weight', 'cls.predictions.transform.dense.weight', 'cls.predictions.bias', 'cls.predictions.transform.dense.bias', 'cls.predictions.transform.LayerNorm.weight', 'cls.seq_relationship.bias']\n",
      "- This IS expected if you are initializing BertModel from the checkpoint of a model trained on another task or with another architecture (e.g. initializing a BertForSequenceClassification model from a BertForPreTraining model).\n",
      "- This IS NOT expected if you are initializing BertModel from the checkpoint of a model that you expect to be exactly identical (initializing a BertForSequenceClassification model from a BertForSequenceClassification model).\n"
     ]
    }
   ],
   "source": [
    "# 加载预训练模型\n",
    "pretrained = BertModel.from_pretrained('bert-base-chinese')\n",
    "# 需要移动到cuda上\n",
    "pretrained.to(device)\n",
    "\n",
    "# 不训练,不需要计算梯度\n",
    "for param in pretrained.parameters():\n",
    "    param.requires_grad_(False)"
   ]
  },
  {
   "cell_type": "code",
   "execution_count": 4,
   "id": "0454e5ee-610b-4c8c-8ed5-2aab8027711e",
   "metadata": {},
   "outputs": [
    {
     "data": {
      "text/plain": [
       "Model(\n",
       "  (fc): Linear(in_features=768, out_features=2, bias=True)\n",
       ")"
      ]
     },
     "execution_count": 4,
     "metadata": {},
     "output_type": "execute_result"
    }
   ],
   "source": [
    "# 定义下游任务模型\n",
    "class Model(torch.nn.Module):\n",
    "    def __init__(self):\n",
    "        super().__init__()\n",
    "        self.fc = torch.nn.Linear(768, 2)\n",
    "\n",
    "    def forward(self, input_ids, attention_mask, token_type_ids):\n",
    "        with torch.no_grad():\n",
    "            out = pretrained(input_ids=input_ids,\n",
    "                             attention_mask=attention_mask,\n",
    "                             token_type_ids=token_type_ids)\n",
    "        out = self.fc(out.last_hidden_state[:, 0])\n",
    "        out = out.softmax(dim=1)\n",
    "        return out\n",
    "\n",
    "\n",
    "model = Model()\n",
    "# 同样要移动到cuda\n",
    "model.to(device)"
   ]
  },
  {
   "cell_type": "code",
   "execution_count": null,
   "id": "011ad22e-359e-4ced-a8ad-a55bdfc49b9b",
   "metadata": {},
   "outputs": [],
   "source": []
  },
  {
   "cell_type": "markdown",
   "id": "b946e3eb-b30f-49e8-9982-7a445ef394a8",
   "metadata": {},
   "source": [
    "## 数据集"
   ]
  },
  {
   "cell_type": "code",
   "execution_count": 13,
   "id": "29c9b1a0-ff43-42a7-9354-5c6082a7eee0",
   "metadata": {},
   "outputs": [
    {
     "name": "stderr",
     "output_type": "stream",
     "text": [
      "Using custom data configuration lansinuote--ChnSentiCorp-4d058ef86e3db8d5\n",
      "Reusing dataset parquet (/root/.cache/huggingface/datasets/lansinuote___parquet/lansinuote--ChnSentiCorp-4d058ef86e3db8d5/0.0.0/2a3b91fbd88a2c90d1dbbb32b460cf621d31bd5b05b934492fdef7d8d6f236ec)\n"
     ]
    },
    {
     "data": {
      "application/vnd.jupyter.widget-view+json": {
       "model_id": "975da45bab2c42eabf158eb86617c475",
       "version_major": 2,
       "version_minor": 0
      },
      "text/plain": [
       "  0%|          | 0/3 [00:00<?, ?it/s]"
      ]
     },
     "metadata": {},
     "output_type": "display_data"
    }
   ],
   "source": [
    "# 定义数据集\n",
    "class Dataset(torch.utils.data.Dataset):\n",
    "\n",
    "    def __init__(self, split):\n",
    "        self.dataset = load_dataset('lansinuote/ChnSentiCorp')[split]\n",
    "\n",
    "    def __len__(self):\n",
    "        return len(self.dataset)\n",
    "\n",
    "    def __getitem__(self, i):\n",
    "        text = self.dataset[i]['text']\n",
    "        label = self.dataset[i]['label']\n",
    "        return text, label\n",
    "\n",
    "\n",
    "dataset = Dataset('train')"
   ]
  },
  {
   "cell_type": "code",
   "execution_count": null,
   "id": "3fecb5fe-146d-48f2-b55d-2fb3119b2067",
   "metadata": {},
   "outputs": [],
   "source": [
    "# 加载字典和分词工具\n",
    "tokenizer = BertTokenizer.from_pretrained('bert-base-chinese')"
   ]
  },
  {
   "cell_type": "code",
   "execution_count": null,
   "id": "301f0455-ddac-4b04-9757-8d88c7a72d80",
   "metadata": {},
   "outputs": [],
   "source": [
    "def collate_fn(data):\n",
    "    sents = [i[0] for i in data]\n",
    "    labels = [i[1] for i in data]\n",
    "\n",
    "    # 编码\n",
    "    data = tokenizer.batch_encode_plus(batch_text_or_text_pairs=sents,\n",
    "                                   truncation=True,\n",
    "                                   padding='max_length',\n",
    "                                   max_length=500,\n",
    "                                   return_tensors='pt',\n",
    "                                   return_length=True)\n",
    "    # input_ids:编码之后的数字\n",
    "    # attention_mask:是补零的位置是0,其他位置是1\n",
    "    input_ids = data['input_ids'].to(device)\n",
    "    attention_mask = data['attention_mask'].to(device)\n",
    "    token_type_ids = data['token_type_ids'].to(device)\n",
    "    labels = torch.LongTensor(labels).to(device)\n",
    "    #print(data['length'], data['length'].max())\n",
    "    return input_ids, attention_mask, token_type_ids, labels\n",
    "\n",
    "\n",
    "# 数据加载器\n",
    "loader = torch.utils.data.DataLoader(dataset=dataset,\n",
    "                                     batch_size=16,\n",
    "                                     collate_fn=collate_fn,\n",
    "                                     shuffle=True,\n",
    "                                     drop_last=True)\n",
    "for i, (input_ids, attention_mask, token_type_ids, labels) in enumerate(loader):\n",
    "    break\n",
    "\n",
    "# print(len(loader))\n",
    "# print(input_ids.shape, attention_mask.shape, token_type_ids.shape, labels)"
   ]
  },
  {
   "cell_type": "code",
   "execution_count": null,
   "id": "c74a6bb3-0c96-4fa1-b11a-3703785ce592",
   "metadata": {},
   "outputs": [],
   "source": []
  },
  {
   "cell_type": "markdown",
   "id": "20ebee5e-73da-4e90-a650-e1dff12a1d24",
   "metadata": {},
   "source": [
    "## 训练"
   ]
  },
  {
   "cell_type": "code",
   "execution_count": 8,
   "id": "901ac739-a0b7-4639-bdf8-1247ba872db4",
   "metadata": {},
   "outputs": [
    {
     "name": "stdout",
     "output_type": "stream",
     "text": [
      "80 0.5124050974845886 0.875\n",
      "85 0.5611639618873596 0.75\n",
      "90 0.47729623317718506 0.9375\n",
      "95 0.5737583041191101 0.75\n",
      "100 0.4450520873069763 0.9375\n",
      "105 0.42058077454566956 1.0\n",
      "110 0.49874192476272583 0.875\n",
      "115 0.46087348461151123 0.875\n",
      "120 0.5468921065330505 0.75\n",
      "125 0.5320476293563843 0.75\n",
      "130 0.4343791604042053 0.9375\n",
      "135 0.4236111640930176 0.9375\n",
      "140 0.4624588191509247 0.875\n",
      "145 0.5540370345115662 0.75\n",
      "150 0.4985641539096832 0.9375\n",
      "155 0.49926358461380005 0.75\n",
      "160 0.4729430377483368 0.8125\n",
      "165 0.4521496593952179 0.875\n",
      "170 0.538541316986084 0.6875\n",
      "175 0.4305785894393921 0.9375\n",
      "180 0.43582674860954285 0.875\n",
      "185 0.3942146301269531 0.9375\n",
      "190 0.4669080376625061 0.875\n",
      "195 0.49853041768074036 0.8125\n",
      "200 0.47426334023475647 0.8125\n",
      "205 0.4314775764942169 0.9375\n",
      "210 0.49639296531677246 0.75\n",
      "215 0.4631291329860687 0.8125\n",
      "220 0.45857852697372437 0.875\n",
      "225 0.5058871507644653 0.8125\n",
      "230 0.60382479429245 0.625\n",
      "235 0.44587695598602295 0.875\n",
      "240 0.45272451639175415 0.875\n",
      "245 0.44890591502189636 0.875\n",
      "250 0.39569807052612305 0.9375\n",
      "255 0.5173619389533997 0.8125\n",
      "260 0.5246562361717224 0.75\n",
      "265 0.46420684456825256 0.875\n",
      "270 0.5482891201972961 0.75\n",
      "275 0.4970683753490448 0.8125\n",
      "280 0.3814693093299866 0.9375\n",
      "285 0.41974082589149475 0.875\n",
      "290 0.4411146640777588 0.875\n",
      "295 0.505433201789856 0.75\n",
      "300 0.4732542037963867 0.8125\n",
      "End time: 2024-03-14 13:31:56.880754\n",
      "Consume time of second: 183\n"
     ]
    }
   ],
   "source": [
    "import time, datetime\n",
    "\n",
    "start_time = datetime.datetime.now()\n",
    "print('Start time:', start_time)\n",
    "\n",
    "\n",
    "# 训练\n",
    "optimizer = AdamW(model.parameters(), lr=5e-4)\n",
    "criterion = torch.nn.CrossEntropyLoss()\n",
    "model.train()\n",
    "for i, (input_ids, attention_mask, token_type_ids,\n",
    "        labels) in enumerate(loader):\n",
    "    out = model(input_ids=input_ids,\n",
    "                attention_mask=attention_mask,\n",
    "                token_type_ids=token_type_ids)\n",
    "    loss = criterion(out, labels)\n",
    "    loss.backward()\n",
    "    optimizer.step()\n",
    "    optimizer.zero_grad()\n",
    "    if i % 5 == 0:\n",
    "        out = out.argmax(dim=1)\n",
    "        accuracy = (out == labels).sum().item() / len(labels)\n",
    "        print(i, loss.item(), accuracy)\n",
    "    if i == 300:\n",
    "        break\n",
    "\n",
    "\n",
    "end_time = datetime.datetime.now()\n",
    "print('End time:', end_time)\n",
    "\n",
    "consume_time = end_time - start_time\n",
    "print('Consume time of second:', consume_time.seconds)"
   ]
  },
  {
   "cell_type": "code",
   "execution_count": null,
   "id": "c9edbea0-8c64-4717-8623-741d04ed6283",
   "metadata": {},
   "outputs": [],
   "source": []
  },
  {
   "cell_type": "markdown",
   "id": "29227ed5-67fe-4ab8-b9d4-26bbf22f2b4b",
   "metadata": {},
   "source": [
    "## 测试"
   ]
  },
  {
   "cell_type": "code",
   "execution_count": 9,
   "id": "d79b4223-8429-4b27-893f-8b9eb1fdac6b",
   "metadata": {},
   "outputs": [
    {
     "name": "stderr",
     "output_type": "stream",
     "text": [
      "Using custom data configuration lansinuote--ChnSentiCorp-4d058ef86e3db8d5\n",
      "Reusing dataset parquet (/root/.cache/huggingface/datasets/lansinuote___parquet/lansinuote--ChnSentiCorp-4d058ef86e3db8d5/0.0.0/2a3b91fbd88a2c90d1dbbb32b460cf621d31bd5b05b934492fdef7d8d6f236ec)\n"
     ]
    },
    {
     "data": {
      "application/vnd.jupyter.widget-view+json": {
       "model_id": "b0e0e246f0944660bc0e8e6075e50f7d",
       "version_major": 2,
       "version_minor": 0
      },
      "text/plain": [
       "  0%|          | 0/3 [00:00<?, ?it/s]"
      ]
     },
     "metadata": {},
     "output_type": "display_data"
    },
    {
     "name": "stdout",
     "output_type": "stream",
     "text": [
      "5 0.85\n",
      "10 0.865625\n",
      "15 0.8625\n",
      "20 0.859375\n",
      "25 0.86125\n",
      "30 0.8697916666666666\n",
      "35 0.8678571428571429\n",
      "Test finish: 0.8690878378378378\n"
     ]
    }
   ],
   "source": [
    "def test():\n",
    "    model.eval()\n",
    "    correct = 0\n",
    "    total = 0\n",
    "    loader_test = torch.utils.data.DataLoader(dataset=Dataset('validation'),\n",
    "                                              batch_size=32,\n",
    "                                              collate_fn=collate_fn,\n",
    "                                              shuffle=True,\n",
    "                                              drop_last=True)\n",
    "    for i, (input_ids, attention_mask, token_type_ids, labels) in enumerate(loader_test):\n",
    "        if i%5 == 0 and total != 0:\n",
    "            print(i, correct / total)\n",
    "        with torch.no_grad():\n",
    "            out = model(input_ids=input_ids,\n",
    "                        attention_mask=attention_mask,\n",
    "                        token_type_ids=token_type_ids)\n",
    "        out = out.argmax(dim=1)\n",
    "        correct += (out == labels).sum().item()\n",
    "        total += len(labels)\n",
    "    print('Test finish:', correct / total)\n",
    "\n",
    "\n",
    "test()"
   ]
  },
  {
   "cell_type": "code",
   "execution_count": null,
   "id": "d1f6c98d-5449-4fcd-ab40-3c716ba8cb3e",
   "metadata": {},
   "outputs": [],
   "source": []
  },
  {
   "cell_type": "markdown",
   "id": "cd8a07a4-9d11-41f4-828b-9a0c66e7ac8a",
   "metadata": {},
   "source": [
    "## 保存模型"
   ]
  },
  {
   "cell_type": "code",
   "execution_count": 10,
   "id": "201b781a-7cd9-418a-808e-164b89322708",
   "metadata": {},
   "outputs": [
    {
     "name": "stdout",
     "output_type": "stream",
     "text": [
      "模型已保存至: /root/workspace/model/model_bert-base-chinese/emotion_classification.pt\n"
     ]
    }
   ],
   "source": [
    "import torch\n",
    "\n",
    "model_path = '/root/workspace/model/model_bert-base-chinese/emotion_classification.pt'\n",
    "# torch.save(model.state_dict(), model_path)\n",
    "torch.save(model.state_dict(), model_path)\n",
    "print('模型已保存至:', model_path)"
   ]
  },
  {
   "cell_type": "code",
   "execution_count": null,
   "id": "8b723fe7-191e-4681-927e-38165a768026",
   "metadata": {},
   "outputs": [],
   "source": []
  },
  {
   "cell_type": "markdown",
   "id": "8fcbf69f-c5f2-42e3-baae-329aa167c896",
   "metadata": {},
   "source": [
    "## 加载模型"
   ]
  },
  {
   "cell_type": "code",
   "execution_count": 11,
   "id": "b643b948",
   "metadata": {},
   "outputs": [
    {
     "data": {
      "text/plain": [
       "<All keys matched successfully>"
      ]
     },
     "execution_count": 11,
     "metadata": {},
     "output_type": "execute_result"
    }
   ],
   "source": [
    "my_model = Model()\n",
    "my_model.load_state_dict(torch.load(model_path))"
   ]
  },
  {
   "cell_type": "code",
   "execution_count": 12,
   "id": "553572b8-c3de-460a-8594-ecea3edd0a82",
   "metadata": {},
   "outputs": [
    {
     "name": "stdout",
     "output_type": "stream",
     "text": [
      "device= cuda\n"
     ]
    },
    {
     "data": {
      "text/plain": [
       "[1, 0, 1]"
      ]
     },
     "execution_count": 12,
     "metadata": {},
     "output_type": "execute_result"
    }
   ],
   "source": [
    "def predict(the_model, text_arr):\n",
    "    the_model.eval()\n",
    "    # 优先使用 GPU\n",
    "    device = 'cuda' if torch.cuda.is_available() else 'cpu'\n",
    "    print('device=', device)\n",
    "    the_model.to(device)\n",
    "\n",
    "    tokenizer = BertTokenizer.from_pretrained('bert-base-chinese')\n",
    "    torch.no_grad()\n",
    "    x_encode = tokenizer.batch_encode_plus(\n",
    "        # 传入的所有句子，有成对句子\n",
    "        batch_text_or_text_pairs=text_arr,\n",
    "        # 长度大于设置是否截断\n",
    "        truncation=True,\n",
    "        # 一律补齐，如果长度不够\n",
    "        padding='max_length',\n",
    "        add_special_tokens=True,\n",
    "        max_length=30,\n",
    "        # 可取值tf,pt,np,（tensorflow,pytorch,numpy）默认返回list\n",
    "        return_tensors=\"pt\",\n",
    "        # 返回token_type_ids,第一句与特殊符号是0，第二句是1\n",
    "        return_token_type_ids=True,\n",
    "        # 返回attention_mask，填充是0，其他是1\n",
    "        return_attention_mask=True,\n",
    "        # 返回special_tokens_mask特殊符号标识，特殊是1，其他是0\n",
    "        return_special_tokens_mask=True,\n",
    "        # 返回长度,这里的长度是真实长度，而非设置的长度30了\n",
    "        return_length=True\n",
    "    )\n",
    "\n",
    "    y = the_model(input_ids=x_encode['input_ids'].to(device),\n",
    "                  attention_mask=x_encode['attention_mask'].to(device),\n",
    "                  token_type_ids=x_encode['token_type_ids'].to(device))\n",
    "    # print(y)\n",
    "    res = y.argmax(dim=1)\n",
    "    return res.cpu().numpy().tolist()\n",
    "\n",
    "\n",
    "texts = ['这家店不错，下次还来', '唉，有点失望，卫生如果能更好一些就不错了', '还行，跟网上描述的一致，有无线网，网速很快']\n",
    "predict(my_model, texts)"
   ]
  },
  {
   "cell_type": "code",
   "execution_count": null,
   "id": "9b51da82-13f1-42d7-bf24-13af47e0486b",
   "metadata": {},
   "outputs": [],
   "source": []
  },
  {
   "cell_type": "code",
   "execution_count": null,
   "id": "47babc5f-46cd-45e1-a852-a26cc559d7d1",
   "metadata": {},
   "outputs": [],
   "source": []
  },
  {
   "cell_type": "code",
   "execution_count": null,
   "id": "f10163ce-4a21-4055-a5d0-128d756779dd",
   "metadata": {},
   "outputs": [],
   "source": []
  },
  {
   "cell_type": "code",
   "execution_count": null,
   "id": "45b18162-9d68-4e38-81e6-df23e23c1540",
   "metadata": {},
   "outputs": [],
   "source": []
  },
  {
   "cell_type": "code",
   "execution_count": null,
   "id": "c26c8e9e-f5b1-42cf-9e2c-457744161705",
   "metadata": {},
   "outputs": [],
   "source": []
  },
  {
   "cell_type": "code",
   "execution_count": null,
   "id": "eca56d3e-1bdd-428b-9364-57c3aea1355b",
   "metadata": {},
   "outputs": [],
   "source": []
  },
  {
   "cell_type": "code",
   "execution_count": null,
   "id": "d58f340d-188b-41db-a101-9da7d889d1b9",
   "metadata": {},
   "outputs": [],
   "source": []
  },
  {
   "cell_type": "code",
   "execution_count": null,
   "id": "b1476362-4771-4526-854d-eabb20a0c6a0",
   "metadata": {},
   "outputs": [],
   "source": []
  },
  {
   "cell_type": "code",
   "execution_count": null,
   "id": "4e4ef0aa-f501-48fd-8436-fc7d4589b8b3",
   "metadata": {},
   "outputs": [],
   "source": []
  },
  {
   "cell_type": "code",
   "execution_count": null,
   "id": "9ff28b14-1208-4986-a899-ab9890640aaf",
   "metadata": {},
   "outputs": [],
   "source": []
  },
  {
   "cell_type": "code",
   "execution_count": null,
   "id": "29df01b2-5ce5-40e6-a52b-3ac57fe218cd",
   "metadata": {},
   "outputs": [],
   "source": []
  }
 ],
 "metadata": {
  "kernelspec": {
   "display_name": "Python 3",
   "language": "python",
   "name": "python3"
  },
  "language_info": {
   "codemirror_mode": {
    "name": "ipython",
    "version": 3
   },
   "file_extension": ".py",
   "mimetype": "text/x-python",
   "name": "python",
   "nbconvert_exporter": "python",
   "pygments_lexer": "ipython3",
   "version": "3.6.9"
  }
 },
 "nbformat": 4,
 "nbformat_minor": 5
}
