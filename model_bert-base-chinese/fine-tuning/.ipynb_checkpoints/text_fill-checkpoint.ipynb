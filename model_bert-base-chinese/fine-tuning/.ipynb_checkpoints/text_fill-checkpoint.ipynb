{
 "cells": [
  {
   "cell_type": "markdown",
   "id": "10fd8a32",
   "metadata": {},
   "source": [
    "# [Bert-base-Chinese 微调](https://blog.csdn.net/qq_43668800/article/details/131921617)"
   ]
  },
  {
   "cell_type": "code",
   "execution_count": 1,
   "id": "bc1857b4",
   "metadata": {},
   "outputs": [],
   "source": [
    "import torch\n",
    "from torch.optim import AdamW\n",
    "from datasets import load_dataset\n",
    "from transformers import BertModel, BertTokenizer"
   ]
  },
  {
   "cell_type": "markdown",
   "id": "6328ad8e",
   "metadata": {},
   "source": [
    "## 模型"
   ]
  },
  {
   "cell_type": "code",
   "execution_count": 2,
   "id": "82124c83",
   "metadata": {},
   "outputs": [
    {
     "name": "stdout",
     "output_type": "stream",
     "text": [
      "device= cuda\n"
     ]
    }
   ],
   "source": [
    "# 优先使用 GPU\n",
    "device = 'cuda' if torch.cuda.is_available() else 'cpu'\n",
    "print('device=', device)"
   ]
  },
  {
   "cell_type": "code",
   "execution_count": 3,
   "id": "bcc12977",
   "metadata": {},
   "outputs": [
    {
     "name": "stderr",
     "output_type": "stream",
     "text": [
      "Some weights of the model checkpoint at bert-base-chinese were not used when initializing BertModel: ['cls.predictions.transform.dense.bias', 'cls.predictions.transform.LayerNorm.bias', 'cls.seq_relationship.bias', 'cls.seq_relationship.weight', 'cls.predictions.transform.dense.weight', 'cls.predictions.bias', 'cls.predictions.decoder.weight', 'cls.predictions.transform.LayerNorm.weight']\n",
      "- This IS expected if you are initializing BertModel from the checkpoint of a model trained on another task or with another architecture (e.g. initializing a BertForSequenceClassification model from a BertForPreTraining model).\n",
      "- This IS NOT expected if you are initializing BertModel from the checkpoint of a model that you expect to be exactly identical (initializing a BertForSequenceClassification model from a BertForSequenceClassification model).\n"
     ]
    }
   ],
   "source": [
    "# 加载预训练模型\n",
    "pretrained = BertModel.from_pretrained('bert-base-chinese')\n",
    "# 需要移动到cuda上\n",
    "pretrained.to(device)\n",
    "\n",
    "# 不训练,不需要计算梯度\n",
    "for param in pretrained.parameters():\n",
    "    param.requires_grad_(False)"
   ]
  },
  {
   "cell_type": "code",
   "execution_count": 4,
   "id": "608c101f",
   "metadata": {},
   "outputs": [],
   "source": [
    "# 加载字典和分词工具\n",
    "tokenizer = BertTokenizer.from_pretrained('bert-base-chinese')"
   ]
  },
  {
   "cell_type": "code",
   "execution_count": 5,
   "id": "f884e6ad",
   "metadata": {},
   "outputs": [
    {
     "data": {
      "text/plain": [
       "Model(\n",
       "  (decoder): Linear(in_features=768, out_features=21128, bias=True)\n",
       ")"
      ]
     },
     "execution_count": 5,
     "metadata": {},
     "output_type": "execute_result"
    }
   ],
   "source": [
    "class Model(torch.nn.Module):\n",
    "    def __init__(self):\n",
    "        super().__init__()\n",
    "        self.decoder = torch.nn.Linear(768, tokenizer.vocab_size, bias=False)\n",
    "        self.bias = torch.nn.Parameter(torch.zeros(tokenizer.vocab_size))\n",
    "        self.decoder.bias = self.bias\n",
    "\n",
    "    def forward(self, input_ids, attention_mask, token_type_ids):\n",
    "        with torch.no_grad():\n",
    "            out = pretrained(input_ids=input_ids,\n",
    "                             attention_mask=attention_mask,\n",
    "                             token_type_ids=token_type_ids)\n",
    "\n",
    "        out = self.decoder(out.last_hidden_state[:, 15])\n",
    "        return out\n",
    "\n",
    "\n",
    "model = Model()\n",
    "# 同样要移动到cuda\n",
    "model.to(device)"
   ]
  },
  {
   "cell_type": "code",
   "execution_count": null,
   "id": "4e557203",
   "metadata": {},
   "outputs": [],
   "source": []
  },
  {
   "cell_type": "markdown",
   "id": "209b77a0",
   "metadata": {},
   "source": [
    "## 数据集"
   ]
  },
  {
   "cell_type": "code",
   "execution_count": 6,
   "id": "3cdefec3",
   "metadata": {},
   "outputs": [
    {
     "name": "stderr",
     "output_type": "stream",
     "text": [
      "Using custom data configuration lansinuote--ChnSentiCorp-4d058ef86e3db8d5\n",
      "Reusing dataset parquet (/root/.cache/huggingface/datasets/lansinuote___parquet/lansinuote--ChnSentiCorp-4d058ef86e3db8d5/0.0.0/2a3b91fbd88a2c90d1dbbb32b460cf621d31bd5b05b934492fdef7d8d6f236ec)\n",
      "Loading cached processed dataset at /root/.cache/huggingface/datasets/lansinuote___parquet/lansinuote--ChnSentiCorp-4d058ef86e3db8d5/0.0.0/2a3b91fbd88a2c90d1dbbb32b460cf621d31bd5b05b934492fdef7d8d6f236ec/cache-1b28defac4421dc0.arrow\n"
     ]
    }
   ],
   "source": [
    "# 定义数据集\n",
    "class Dataset(torch.utils.data.Dataset):\n",
    "    def __init__(self, split):\n",
    "        dataset = load_dataset(path='lansinuote/ChnSentiCorp', split=split)\n",
    "        def f(data):\n",
    "            return len(data['text']) > 30\n",
    "        self.dataset = dataset.filter(f)\n",
    "    def __len__(self):\n",
    "        return len(self.dataset)\n",
    "    def __getitem__(self, i):\n",
    "        text = self.dataset[i]['text']\n",
    "        return text\n",
    "\n",
    "\n",
    "dataset = Dataset('train')"
   ]
  },
  {
   "cell_type": "code",
   "execution_count": 7,
   "id": "fb1c7df7",
   "metadata": {},
   "outputs": [
    {
     "name": "stdout",
     "output_type": "stream",
     "text": [
      "574\n",
      "[CLS] 电 池 续 航 能 力 标 称 4 小 时 ， 实 际 [MASK] 概 2. 5 至 3 小 时 。 机 器 有 时 [SEP]\n",
      "大\n",
      "torch.Size([16, 30]) torch.Size([16, 30]) torch.Size([16, 30]) torch.Size([16])\n"
     ]
    }
   ],
   "source": [
    "def collate_fn(data):\n",
    "    # 编码\n",
    "    data = tokenizer.batch_encode_plus(batch_text_or_text_pairs=data,\n",
    "                                   truncation=True,\n",
    "                                   padding='max_length',\n",
    "                                   max_length=30,\n",
    "                                   return_tensors='pt',\n",
    "                                   return_length=True)\n",
    "\n",
    "    # input_ids:编码之后的数字\n",
    "    # attention_mask:是补零的位置是0,其他位置是1\n",
    "    input_ids = data['input_ids'].to(device)\n",
    "    attention_mask = data['attention_mask'].to(device)\n",
    "    token_type_ids = data['token_type_ids'].to(device)\n",
    "    # 把第15个词固定替换为mask\n",
    "    labels = input_ids[:, 15].reshape(-1).clone().to(device)\n",
    "    input_ids[:, 15] = tokenizer.get_vocab()[tokenizer.mask_token]\n",
    "    # print(data['length'], data['length'].max())\n",
    "    return input_ids, attention_mask, token_type_ids, labels\n",
    "\n",
    "\n",
    "# 数据加载器\n",
    "loader = torch.utils.data.DataLoader(dataset=dataset,\n",
    "                                     batch_size=16,\n",
    "                                     collate_fn=collate_fn,\n",
    "                                     shuffle=True,\n",
    "                                     drop_last=True)\n",
    "for i, (input_ids, attention_mask, token_type_ids, labels) in enumerate(loader):\n",
    "    break\n",
    "\n",
    "print(len(loader))\n",
    "print(tokenizer.decode(input_ids[0]))\n",
    "print(tokenizer.decode(labels[0]))\n",
    "print(input_ids.shape, attention_mask.shape, token_type_ids.shape, labels.shape)"
   ]
  },
  {
   "cell_type": "code",
   "execution_count": null,
   "id": "68c52669",
   "metadata": {},
   "outputs": [],
   "source": []
  },
  {
   "cell_type": "markdown",
   "id": "6db78d94",
   "metadata": {},
   "source": [
    "## 训练"
   ]
  },
  {
   "cell_type": "code",
   "execution_count": 8,
   "id": "f3ca5ada",
   "metadata": {},
   "outputs": [
    {
     "name": "stdout",
     "output_type": "stream",
     "text": [
      "Start time: 2024-03-17 06:43:12.718336\n",
      "0 0 10.097411155700684 0.0\n",
      "0 50 7.582120418548584 0.1875\n",
      "0 100 6.687246322631836 0.125\n",
      "0 150 6.288071632385254 0.125\n",
      "0 200 5.54958438873291 0.25\n",
      "0 250 5.036920070648193 0.25\n",
      "0 300 4.433927059173584 0.375\n",
      "0 350 4.677452564239502 0.375\n",
      "0 400 4.231757640838623 0.5\n",
      "0 450 4.016312599182129 0.3125\n",
      "0 500 3.7853074073791504 0.4375\n",
      "0 550 3.3336679935455322 0.6875\n",
      "1 0 1.9432461261749268 0.6875\n",
      "1 50 2.293134927749634 0.6875\n",
      "1 100 3.0873708724975586 0.5625\n",
      "1 150 1.9749011993408203 0.625\n",
      "1 200 2.0814075469970703 0.4375\n",
      "1 250 2.1085357666015625 0.5625\n",
      "1 300 2.45772123336792 0.625\n",
      "1 350 2.926966667175293 0.4375\n",
      "1 400 2.176602840423584 0.5625\n",
      "1 450 1.9999704360961914 0.6875\n",
      "1 500 1.996634840965271 0.625\n",
      "1 550 1.5553489923477173 0.6875\n",
      "2 0 0.5573766827583313 0.875\n",
      "2 50 0.7366800308227539 0.9375\n",
      "2 100 1.9312366247177124 0.6875\n",
      "2 150 0.9704812169075012 0.8125\n",
      "2 200 1.15225088596344 0.875\n",
      "2 250 0.6283098459243774 0.875\n",
      "2 300 0.9777261018753052 0.75\n",
      "2 350 1.1209981441497803 0.6875\n",
      "2 400 1.438485026359558 0.6875\n",
      "2 450 1.186786413192749 0.8125\n",
      "2 500 1.2902443408966064 0.6875\n",
      "2 550 1.2277668714523315 0.75\n",
      "3 0 0.6190336346626282 0.9375\n",
      "3 50 0.7024053931236267 0.9375\n",
      "3 100 0.48740965127944946 0.9375\n",
      "3 150 0.672774076461792 0.8125\n",
      "3 200 0.4794025421142578 0.9375\n",
      "3 250 0.7796847820281982 0.8125\n",
      "3 300 0.7017229199409485 0.9375\n",
      "3 350 0.8465834856033325 0.875\n",
      "3 400 0.5265465974807739 0.875\n",
      "3 450 0.3490230143070221 0.875\n",
      "3 500 0.41622015833854675 0.875\n",
      "3 550 0.6037538051605225 0.8125\n",
      "4 0 0.31744691729545593 1.0\n",
      "4 50 0.28896060585975647 0.9375\n",
      "4 100 0.1752508282661438 1.0\n",
      "4 150 0.29032909870147705 1.0\n",
      "4 200 0.3717738687992096 1.0\n",
      "4 250 0.3693908452987671 0.9375\n",
      "4 300 0.37990325689315796 0.9375\n",
      "4 350 0.26747187972068787 0.9375\n",
      "4 400 0.4019685685634613 0.875\n",
      "4 450 0.45600274205207825 0.875\n",
      "4 500 0.17972780764102936 1.0\n",
      "4 550 0.27602824568748474 0.9375\n",
      "End time: 2024-03-17 06:45:36.863228\n",
      "Consume time of second: 144\n"
     ]
    }
   ],
   "source": [
    "import time, datetime\n",
    "\n",
    "start_time = datetime.datetime.now()\n",
    "print('Start time:', start_time)\n",
    "\n",
    "# 训练\n",
    "optimizer = AdamW(model.parameters(), lr=5e-4)\n",
    "criterion = torch.nn.CrossEntropyLoss()\n",
    "model.train()\n",
    "for epoch in range(5):\n",
    "    for i, (input_ids, attention_mask, token_type_ids, labels) in enumerate(loader):\n",
    "        out = model(input_ids=input_ids,\n",
    "                    attention_mask=attention_mask,\n",
    "                    token_type_ids=token_type_ids)\n",
    "        loss = criterion(out, labels)\n",
    "        loss.backward()\n",
    "        optimizer.step()\n",
    "        optimizer.zero_grad()\n",
    "        if i % 50 == 0:\n",
    "            out = out.argmax(dim=1)\n",
    "            accuracy = (out == labels).sum().item() / len(labels)\n",
    "            print(epoch, i, loss.item(), accuracy)\n",
    "\n",
    " \n",
    "end_time = datetime.datetime.now()\n",
    "print('End time:', end_time)\n",
    "\n",
    "consume_time = end_time - start_time\n",
    "print('Consume time of second:', consume_time.seconds)"
   ]
  },
  {
   "cell_type": "code",
   "execution_count": null,
   "id": "537aa537",
   "metadata": {},
   "outputs": [],
   "source": []
  },
  {
   "cell_type": "markdown",
   "id": "185eb58c",
   "metadata": {},
   "source": [
    "## 测试"
   ]
  },
  {
   "cell_type": "code",
   "execution_count": 9,
   "id": "e0ded7e4",
   "metadata": {},
   "outputs": [
    {
     "name": "stderr",
     "output_type": "stream",
     "text": [
      "Using custom data configuration lansinuote--ChnSentiCorp-4d058ef86e3db8d5\n",
      "Reusing dataset parquet (/root/.cache/huggingface/datasets/lansinuote___parquet/lansinuote--ChnSentiCorp-4d058ef86e3db8d5/0.0.0/2a3b91fbd88a2c90d1dbbb32b460cf621d31bd5b05b934492fdef7d8d6f236ec)\n",
      "Loading cached processed dataset at /root/.cache/huggingface/datasets/lansinuote___parquet/lansinuote--ChnSentiCorp-4d058ef86e3db8d5/0.0.0/2a3b91fbd88a2c90d1dbbb32b460cf621d31bd5b05b934492fdef7d8d6f236ec/cache-6b1a9471b2da2abf.arrow\n"
     ]
    },
    {
     "name": "stdout",
     "output_type": "stream",
     "text": [
      "0 [CLS] 屏 的 显 示 效 果 好 象 不 大 好 ， 不 知 [MASK] 是 才 拿 到 不 会 调 还 是 其 它 问 题 [SEP]\n",
      "预测: 道 ，实际: 道\n",
      "1 [CLS] [UNK] 屏 ， 亮 ， 可 视 角 度 大 （ 下 方 可 [MASK] 效 果 不 好 ） 。 较 轻 。 新 款 适 配 [SEP]\n",
      "预测: 能 ，实际: 视\n",
      "2 [CLS] 我 前 几 天 发 表 了 我 的 看 法 ， 竟 然 [MASK] 当 当 工 作 人 员 删 除 了 。 多 的 我 [SEP]\n",
      "预测: 在 ，实际: 被\n",
      "3 [CLS] 这 一 套 书 我 基 本 买 齐 了 ， 也 看 了 [MASK] 多 本 了 。 是 利 用 闲 暇 时 间 巩 固 [SEP]\n",
      "预测: 很 ，实际: 好\n",
      "4 [CLS] 配 置 不 错 ， 性 价 比 挺 高 的 。 重 量 [MASK] 很 轻 ， 自 带 [UNK] [UNK] 和 [UNK] [UNK] 两 种 驱 [SEP]\n",
      "预测: 也 ，实际: 也\n",
      "5 [CLS] 力 荐 《 白 蛇 》 这 个 故 事 ， 源 于 一 [MASK] 传 说 ， 白 蛇 为 女 ， 青 蛇 为 男 ， [SEP]\n",
      "预测: 个 ，实际: 个\n",
      "6 [CLS] 新 机 拿 到 手 就 有 硬 件 问 题 ， 而 且 [MASK] 了 6 天 才 到 货 ， 第 二 天 就 返 修 [SEP]\n",
      "预测: 用 ，实际: 等\n",
      "7 [CLS] 看 这 本 书 ， 让 我 想 起 我 们 那 些 远 [MASK] 的 流 年 。 那 时 候 我 们 每 个 人 都 [SEP]\n",
      "预测: 远 ，实际: 去\n",
      "8 [CLS] 没 有 附 赠 背 包 ， 而 且 usb 接 口 过 少 [MASK] 才 两 个 ， 共 用 口 室 不 能 接 usb 设 [SEP]\n",
      "预测: ， ，实际: ，\n",
      "9 [CLS] 请 协 成 不 要 再 介 绍 是 准 四 星 未 挂 [MASK] 的 该 酒 店 ， 最 好 不 要 再 与 这 家 [SEP]\n",
      "预测: 机 ，实际: 牌\n",
      "0.65\n"
     ]
    }
   ],
   "source": [
    "# 测试\n",
    "def test():\n",
    "    model.eval()\n",
    "    correct = 0\n",
    "    total = 0\n",
    "    loader_test = torch.utils.data.DataLoader(dataset=Dataset('test'),\n",
    "                                              batch_size=32,\n",
    "                                              collate_fn=collate_fn,\n",
    "                                              shuffle=True,\n",
    "                                              drop_last=True)\n",
    "    for i, (input_ids, attention_mask, token_type_ids, labels) in enumerate(loader_test):\n",
    "        if i >= 10:\n",
    "            break\n",
    "        with torch.no_grad():\n",
    "            out = model(input_ids=input_ids,\n",
    "                        attention_mask=attention_mask,\n",
    "                        token_type_ids=token_type_ids)\n",
    "        out = out.argmax(dim=1)\n",
    "        correct += (out == labels).sum().item()\n",
    "        total += len(labels)\n",
    "        print(i, tokenizer.decode(input_ids[0]))\n",
    "        print('预测:', tokenizer.decode(out[0]), '，实际:', tokenizer.decode(labels[0]))\n",
    "    print(correct / total)\n",
    "\n",
    "\n",
    "test()"
   ]
  },
  {
   "cell_type": "code",
   "execution_count": null,
   "id": "474c69c9",
   "metadata": {},
   "outputs": [],
   "source": []
  },
  {
   "cell_type": "markdown",
   "id": "052baf91",
   "metadata": {},
   "source": [
    "## 保存模型"
   ]
  },
  {
   "cell_type": "code",
   "execution_count": 10,
   "id": "46323ed0",
   "metadata": {},
   "outputs": [
    {
     "name": "stdout",
     "output_type": "stream",
     "text": [
      "模型已保存至: /root/workspace/model/model_bert-base-chinese/text_fill.pt\n"
     ]
    }
   ],
   "source": [
    "import torch\n",
    "\n",
    "model_path = '/root/workspace/model/model_bert-base-chinese/text_fill.pt'\n",
    "# torch.save(model.state_dict(), model_path)\n",
    "torch.save(model.state_dict(), model_path)\n",
    "print('模型已保存至:', model_path)"
   ]
  },
  {
   "cell_type": "code",
   "execution_count": null,
   "id": "31f0992f",
   "metadata": {},
   "outputs": [],
   "source": []
  },
  {
   "cell_type": "markdown",
   "id": "e7221df8",
   "metadata": {},
   "source": [
    "## 加载模型"
   ]
  },
  {
   "cell_type": "code",
   "execution_count": 11,
   "id": "3d856ef7",
   "metadata": {},
   "outputs": [
    {
     "data": {
      "text/plain": [
       "<All keys matched successfully>"
      ]
     },
     "execution_count": 11,
     "metadata": {},
     "output_type": "execute_result"
    }
   ],
   "source": [
    "my_model = Model()\n",
    "my_model.load_state_dict(torch.load(model_path))"
   ]
  },
  {
   "cell_type": "code",
   "execution_count": 12,
   "id": "dd98282a",
   "metadata": {},
   "outputs": [
    {
     "name": "stdout",
     "output_type": "stream",
     "text": [
      "device= cuda\n",
      "0 [CLS] 安 装 好 了 ， 感 觉 很 好 。 所 有 的 驱 [MASK] 官 方 都 提 供 ， 各 快 捷 键 的 驱 动 [SEP]\n",
      "预测: 动 ，实际: 动\n",
      "1 [CLS] 晕 死 ， 发 表 的 评 论 竟 然 无 法 编 辑 [MASK] ？ ？ 我 想 改 几 个 错 别 字 就 不 行 [SEP]\n",
      "预测: 了 ，实际: 了\n",
      "2 [CLS] 还 是 连 锁 酒 店 靠 谱 ， 卫 生 条 件 非 [MASK] 不 错 ， 热 水 也 很 充 足 [SEP] [PAD] [PAD] [PAD] [PAD]\n",
      "预测: 常 ，实际: 常\n"
     ]
    },
    {
     "data": {
      "text/plain": [
       "'动 了 常'"
      ]
     },
     "execution_count": 12,
     "metadata": {},
     "output_type": "execute_result"
    }
   ],
   "source": [
    "def predict(the_model, text_arr, mark_idx):\n",
    "    the_model.eval()\n",
    "    # 优先使用 GPU\n",
    "    device = 'cuda' if torch.cuda.is_available() else 'cpu'\n",
    "    print('device=', device)\n",
    "    the_model.to(device)\n",
    "\n",
    "    tokenizer = BertTokenizer.from_pretrained('bert-base-chinese')\n",
    "    torch.no_grad()\n",
    "    x_encode = tokenizer.batch_encode_plus(\n",
    "        # 传入的所有句子，有成对句子\n",
    "        batch_text_or_text_pairs=text_arr,\n",
    "        # 长度大于设置是否截断\n",
    "        truncation=True,\n",
    "        # 一律补齐，如果长度不够\n",
    "        padding='max_length',\n",
    "        add_special_tokens=True,\n",
    "        max_length=30,\n",
    "        # 可取值tf,pt,np,（tensorflow,pytorch,numpy）默认返回list\n",
    "        return_tensors=\"pt\",\n",
    "        # 返回token_type_ids,第一句与特殊符号是0，第二句是1\n",
    "        return_token_type_ids=True,\n",
    "        # 返回attention_mask，填充是0，其他是1\n",
    "        return_attention_mask=True,\n",
    "        # 返回special_tokens_mask特殊符号标识，特殊是1，其他是0\n",
    "        return_special_tokens_mask=True,\n",
    "        # 返回长度,这里的长度是真实长度，而非设置的长度30了\n",
    "        return_length=True\n",
    "    )\n",
    "\n",
    "    # input_ids:编码之后的数字\n",
    "    # attention_mask:是补零的位置是0,其他位置是1\n",
    "    input_ids = x_encode['input_ids']\n",
    "    attention_mask = x_encode['attention_mask']\n",
    "    token_type_ids = x_encode['token_type_ids']\n",
    "    # 把指定词固定替换为mask\n",
    "    input_ids[:, mark_idx] = tokenizer.get_vocab()[tokenizer.mask_token]\n",
    "    \n",
    "    y = the_model(input_ids=input_ids.to(device),\n",
    "                  attention_mask=attention_mask.to(device),\n",
    "                  token_type_ids=token_type_ids.to(device))\n",
    "    res = y.argmax(dim=1)\n",
    "    \n",
    "    for i, text in enumerate(text_arr):\n",
    "        print(i, tokenizer.decode(input_ids[i]))\n",
    "        print('预测:', tokenizer.decode(res[i]), '，实际:', text[mark_idx-1])\n",
    "    \n",
    "    return tokenizer.decode(res)\n",
    "\n",
    "\n",
    "texts = ['安装好了，感觉很好。所有的驱动官方都提供，各快捷键的驱动', \n",
    "         '晕死，发表的评论竟然无法编辑了？？我想改几个错别字就不行',\n",
    "         '还是连锁酒店靠谱，卫生条件非常不错，热水也很充足']\n",
    "mark = 15\n",
    "predict(my_model, texts, mark)"
   ]
  },
  {
   "cell_type": "code",
   "execution_count": null,
   "id": "d73bddf8",
   "metadata": {},
   "outputs": [],
   "source": []
  },
  {
   "cell_type": "code",
   "execution_count": null,
   "id": "83ccc790",
   "metadata": {},
   "outputs": [],
   "source": []
  },
  {
   "cell_type": "code",
   "execution_count": null,
   "id": "8a089937",
   "metadata": {},
   "outputs": [],
   "source": []
  },
  {
   "cell_type": "code",
   "execution_count": null,
   "id": "960a75a6",
   "metadata": {},
   "outputs": [],
   "source": []
  },
  {
   "cell_type": "code",
   "execution_count": null,
   "id": "ff2d8676",
   "metadata": {},
   "outputs": [],
   "source": []
  },
  {
   "cell_type": "code",
   "execution_count": null,
   "id": "155a11eb",
   "metadata": {},
   "outputs": [],
   "source": []
  },
  {
   "cell_type": "code",
   "execution_count": null,
   "id": "12122add",
   "metadata": {},
   "outputs": [],
   "source": []
  }
 ],
 "metadata": {
  "kernelspec": {
   "display_name": "Python 3",
   "language": "python",
   "name": "python3"
  },
  "language_info": {
   "codemirror_mode": {
    "name": "ipython",
    "version": 3
   },
   "file_extension": ".py",
   "mimetype": "text/x-python",
   "name": "python",
   "nbconvert_exporter": "python",
   "pygments_lexer": "ipython3",
   "version": "3.6.9"
  }
 },
 "nbformat": 4,
 "nbformat_minor": 5
}
