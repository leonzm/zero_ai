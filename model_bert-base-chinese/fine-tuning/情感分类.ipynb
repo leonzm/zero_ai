{
 "cells": [
  {
   "cell_type": "markdown",
   "id": "e63918e7-c634-4cf6-9f84-5fcc8649a054",
   "metadata": {},
   "source": [
    "# [Bert-base-Chinese 微调](https://blog.csdn.net/qq_43668800/article/details/131921617)"
   ]
  },
  {
   "cell_type": "code",
   "execution_count": 1,
   "id": "1462af61-18f0-467e-b89d-6531d8a9cce6",
   "metadata": {},
   "outputs": [],
   "source": [
    "import torch\n",
    "from torch.optim import AdamW\n",
    "from datasets import load_dataset\n",
    "from transformers import BertModel, BertTokenizer"
   ]
  },
  {
   "cell_type": "markdown",
   "id": "0bfaa09d-acc0-4a83-b133-06810c6458e2",
   "metadata": {},
   "source": [
    "## 模型"
   ]
  },
  {
   "cell_type": "code",
   "execution_count": 2,
   "id": "0713561e-aed0-4215-b32c-e2a5944d5bd8",
   "metadata": {},
   "outputs": [
    {
     "name": "stdout",
     "output_type": "stream",
     "text": [
      "device= cpu\n"
     ]
    }
   ],
   "source": [
    "# 优先使用 GPU\n",
    "device = 'cuda' if torch.cuda.is_available() else 'cpu'\n",
    "print('device=', device)"
   ]
  },
  {
   "cell_type": "code",
   "execution_count": 3,
   "id": "6332398b-afed-4dc2-9ae8-de3994bf2495",
   "metadata": {},
   "outputs": [],
   "source": [
    "# 加载预训练模型\n",
    "pretrained = BertModel.from_pretrained('bert-base-chinese')\n",
    "# 需要移动到cuda上\n",
    "pretrained.to(device)\n",
    "\n",
    "# 不训练,不需要计算梯度\n",
    "for param in pretrained.parameters():\n",
    "    param.requires_grad_(False)"
   ]
  },
  {
   "cell_type": "code",
   "execution_count": 4,
   "id": "0454e5ee-610b-4c8c-8ed5-2aab8027711e",
   "metadata": {},
   "outputs": [
    {
     "data": {
      "text/plain": [
       "Model(\n",
       "  (fc): Linear(in_features=768, out_features=2, bias=True)\n",
       ")"
      ]
     },
     "execution_count": 4,
     "metadata": {},
     "output_type": "execute_result"
    }
   ],
   "source": [
    "# 定义下游任务模型\n",
    "class Model(torch.nn.Module):\n",
    "    def __init__(self):\n",
    "        super().__init__()\n",
    "        self.fc = torch.nn.Linear(768, 2)\n",
    "\n",
    "    def forward(self, input_ids, attention_mask, token_type_ids):\n",
    "        with torch.no_grad():\n",
    "            out = pretrained(input_ids=input_ids,\n",
    "                             attention_mask=attention_mask,\n",
    "                             token_type_ids=token_type_ids)\n",
    "        out = self.fc(out.last_hidden_state[:, 0])\n",
    "        out = out.softmax(dim=1)\n",
    "        return out\n",
    "\n",
    "\n",
    "model = Model()\n",
    "# 同样要移动到cuda\n",
    "model.to(device)"
   ]
  },
  {
   "cell_type": "code",
   "execution_count": null,
   "id": "011ad22e-359e-4ced-a8ad-a55bdfc49b9b",
   "metadata": {},
   "outputs": [],
   "source": []
  },
  {
   "cell_type": "markdown",
   "id": "b946e3eb-b30f-49e8-9982-7a445ef394a8",
   "metadata": {},
   "source": [
    "## 数据集"
   ]
  },
  {
   "cell_type": "code",
   "execution_count": 5,
   "id": "29c9b1a0-ff43-42a7-9354-5c6082a7eee0",
   "metadata": {},
   "outputs": [],
   "source": [
    "# 定义数据集\n",
    "class Dataset(torch.utils.data.Dataset):\n",
    "\n",
    "    def __init__(self, split):\n",
    "        self.dataset = load_dataset('lansinuote/ChnSentiCorp')[split]\n",
    "\n",
    "    def __len__(self):\n",
    "        return len(self.dataset)\n",
    "\n",
    "    def __getitem__(self, i):\n",
    "        text = self.dataset[i]['text']\n",
    "        label = self.dataset[i]['label']\n",
    "        return text, label\n",
    "\n",
    "\n",
    "dataset = Dataset('train')"
   ]
  },
  {
   "cell_type": "code",
   "execution_count": 6,
   "id": "3fecb5fe-146d-48f2-b55d-2fb3119b2067",
   "metadata": {},
   "outputs": [],
   "source": [
    "# 加载字典和分词工具\n",
    "tokenizer = BertTokenizer.from_pretrained('bert-base-chinese')"
   ]
  },
  {
   "cell_type": "code",
   "execution_count": 7,
   "id": "301f0455-ddac-4b04-9757-8d88c7a72d80",
   "metadata": {},
   "outputs": [],
   "source": [
    "def collate_fn(data):\n",
    "    sents = [i[0] for i in data]\n",
    "    labels = [i[1] for i in data]\n",
    "\n",
    "    # 编码\n",
    "    data = tokenizer.batch_encode_plus(batch_text_or_text_pairs=sents,\n",
    "                                   truncation=True,\n",
    "                                   padding='max_length',\n",
    "                                   max_length=500,\n",
    "                                   return_tensors='pt',\n",
    "                                   return_length=True)\n",
    "    # input_ids:编码之后的数字\n",
    "    # attention_mask:是补零的位置是0,其他位置是1\n",
    "    input_ids = data['input_ids'].to(device)\n",
    "    attention_mask = data['attention_mask'].to(device)\n",
    "    token_type_ids = data['token_type_ids'].to(device)\n",
    "    labels = torch.LongTensor(labels).to(device)\n",
    "    #print(data['length'], data['length'].max())\n",
    "    return input_ids, attention_mask, token_type_ids, labels\n",
    "\n",
    "\n",
    "# 数据加载器\n",
    "loader = torch.utils.data.DataLoader(dataset=dataset,\n",
    "                                     batch_size=16,\n",
    "                                     collate_fn=collate_fn,\n",
    "                                     shuffle=True,\n",
    "                                     drop_last=True)\n",
    "for i, (input_ids, attention_mask, token_type_ids, labels) in enumerate(loader):\n",
    "    break\n",
    "\n",
    "# print(len(loader))\n",
    "# print(input_ids.shape, attention_mask.shape, token_type_ids.shape, labels)"
   ]
  },
  {
   "cell_type": "code",
   "execution_count": null,
   "id": "c74a6bb3-0c96-4fa1-b11a-3703785ce592",
   "metadata": {},
   "outputs": [],
   "source": []
  },
  {
   "cell_type": "markdown",
   "id": "20ebee5e-73da-4e90-a650-e1dff12a1d24",
   "metadata": {},
   "source": [
    "## 训练"
   ]
  },
  {
   "cell_type": "code",
   "execution_count": 8,
   "id": "901ac739-a0b7-4639-bdf8-1247ba872db4",
   "metadata": {},
   "outputs": [
    {
     "name": "stdout",
     "output_type": "stream",
     "text": [
      "Start time: 2024-03-12 12:58:18.489537\n",
      "0 0.7645013332366943 0.375\n",
      "5 0.6390764117240906 0.875\n",
      "10 0.6356218457221985 0.6875\n",
      "15 0.6893625259399414 0.5625\n",
      "20 0.6330533623695374 0.5625\n",
      "25 0.5675426721572876 0.9375\n",
      "30 0.5968677997589111 0.75\n",
      "35 0.606072723865509 0.6875\n",
      "40 0.5299747586250305 0.875\n",
      "45 0.5672606229782104 0.8125\n",
      "50 0.5386875867843628 0.8125\n",
      "55 0.5035529136657715 0.9375\n",
      "60 0.5014715790748596 0.9375\n",
      "65 0.5870357155799866 0.75\n",
      "70 0.4318719804286957 1.0\n",
      "75 0.548433244228363 0.8125\n",
      "80 0.5251044034957886 0.875\n",
      "85 0.6038758158683777 0.6875\n",
      "90 0.5054733157157898 0.8125\n",
      "95 0.5312966704368591 0.75\n",
      "100 0.44405126571655273 0.9375\n",
      "105 0.5182729363441467 0.875\n",
      "110 0.5805631279945374 0.6875\n",
      "115 0.522594153881073 0.8125\n",
      "120 0.46956300735473633 0.875\n",
      "125 0.5128549933433533 0.8125\n",
      "130 0.5821756720542908 0.75\n",
      "135 0.4754180610179901 0.875\n",
      "140 0.6347154378890991 0.625\n",
      "145 0.42436057329177856 0.9375\n",
      "150 0.4781484603881836 0.8125\n",
      "155 0.4394186735153198 0.875\n",
      "160 0.4490683972835541 0.875\n",
      "165 0.44661372900009155 0.875\n",
      "170 0.4507438540458679 0.875\n",
      "175 0.46429356932640076 0.875\n",
      "180 0.4675709009170532 0.9375\n",
      "185 0.4737113118171692 0.8125\n",
      "190 0.4486792981624603 0.9375\n",
      "195 0.3669385313987732 1.0\n",
      "200 0.48931434750556946 0.875\n",
      "205 0.501496434211731 0.75\n",
      "210 0.46800950169563293 0.875\n",
      "215 0.48345816135406494 0.75\n",
      "220 0.42039012908935547 0.875\n",
      "225 0.43617209792137146 0.875\n",
      "230 0.47869130969047546 0.75\n",
      "235 0.5315102934837341 0.8125\n",
      "240 0.41245871782302856 0.9375\n",
      "245 0.43637412786483765 0.9375\n",
      "250 0.49882620573043823 0.875\n",
      "255 0.39647388458251953 1.0\n",
      "260 0.4268172085285187 0.9375\n",
      "265 0.40088194608688354 0.9375\n",
      "270 0.4900315999984741 0.875\n",
      "275 0.5054507851600647 0.875\n",
      "280 0.4987737536430359 0.875\n",
      "285 0.39395058155059814 0.9375\n",
      "290 0.42620912194252014 0.9375\n",
      "295 0.4407080411911011 0.9375\n",
      "300 0.4980801045894623 0.875\n",
      "End time: 2024-03-12 13:09:41.641740\n",
      "Consume time of second: 683\n"
     ]
    }
   ],
   "source": [
    "import time, datetime\n",
    "\n",
    "start_time = datetime.datetime.now()\n",
    "print('Start time:', start_time)\n",
    "\n",
    "\n",
    "# 训练\n",
    "optimizer = AdamW(model.parameters(), lr=5e-4)\n",
    "criterion = torch.nn.CrossEntropyLoss()\n",
    "model.train()\n",
    "for i, (input_ids, attention_mask, token_type_ids,\n",
    "        labels) in enumerate(loader):\n",
    "    out = model(input_ids=input_ids,\n",
    "                attention_mask=attention_mask,\n",
    "                token_type_ids=token_type_ids)\n",
    "    loss = criterion(out, labels)\n",
    "    loss.backward()\n",
    "    optimizer.step()\n",
    "    optimizer.zero_grad()\n",
    "    if i % 5 == 0:\n",
    "        out = out.argmax(dim=1)\n",
    "        accuracy = (out == labels).sum().item() / len(labels)\n",
    "        print(i, loss.item(), accuracy)\n",
    "    if i == 300:\n",
    "        break\n",
    "\n",
    "\n",
    "end_time = datetime.datetime.now()\n",
    "print('End time:', end_time)\n",
    "\n",
    "consume_time = end_time - start_time\n",
    "print('Consume time of second:', consume_time.seconds)"
   ]
  },
  {
   "cell_type": "code",
   "execution_count": null,
   "id": "c9edbea0-8c64-4717-8623-741d04ed6283",
   "metadata": {},
   "outputs": [],
   "source": []
  },
  {
   "cell_type": "markdown",
   "id": "29227ed5-67fe-4ab8-b9d4-26bbf22f2b4b",
   "metadata": {},
   "source": [
    "## 测试"
   ]
  },
  {
   "cell_type": "code",
   "execution_count": 9,
   "id": "d79b4223-8429-4b27-893f-8b9eb1fdac6b",
   "metadata": {},
   "outputs": [
    {
     "name": "stdout",
     "output_type": "stream",
     "text": [
      "5 0.86875\n",
      "10 0.853125\n",
      "15 0.8479166666666667\n",
      "20 0.8640625\n",
      "25 0.86625\n",
      "30 0.8666666666666667\n",
      "35 0.8705357142857143\n",
      "Test finish: 0.8699324324324325\n"
     ]
    }
   ],
   "source": [
    "def test():\n",
    "    model.eval()\n",
    "    correct = 0\n",
    "    total = 0\n",
    "    loader_test = torch.utils.data.DataLoader(dataset=Dataset('validation'),\n",
    "                                              batch_size=32,\n",
    "                                              collate_fn=collate_fn,\n",
    "                                              shuffle=True,\n",
    "                                              drop_last=True)\n",
    "    for i, (input_ids, attention_mask, token_type_ids, labels) in enumerate(loader_test):\n",
    "        if i%5 == 0 and total != 0:\n",
    "            print(i, correct / total)\n",
    "        with torch.no_grad():\n",
    "            out = model(input_ids=input_ids,\n",
    "                        attention_mask=attention_mask,\n",
    "                        token_type_ids=token_type_ids)\n",
    "        out = out.argmax(dim=1)\n",
    "        correct += (out == labels).sum().item()\n",
    "        total += len(labels)\n",
    "    print('Test finish:', correct / total)\n",
    "\n",
    "\n",
    "test()"
   ]
  },
  {
   "cell_type": "code",
   "execution_count": null,
   "id": "d1f6c98d-5449-4fcd-ab40-3c716ba8cb3e",
   "metadata": {},
   "outputs": [],
   "source": []
  },
  {
   "cell_type": "markdown",
   "id": "cd8a07a4-9d11-41f4-828b-9a0c66e7ac8a",
   "metadata": {},
   "source": [
    "## 保存模型"
   ]
  },
  {
   "cell_type": "code",
   "execution_count": 10,
   "id": "201b781a-7cd9-418a-808e-164b89322708",
   "metadata": {},
   "outputs": [
    {
     "name": "stdout",
     "output_type": "stream",
     "text": [
      "模型已保存至: /root/workspace/model/model_bert-base-chinese/emotion_classification.pt\n"
     ]
    }
   ],
   "source": [
    "import torch\n",
    "\n",
    "model_path = '/root/workspace/model/model_bert-base-chinese/emotion_classification.pt'\n",
    "# torch.save(model.state_dict(), model_path)\n",
    "torch.save(model.state_dict(), model_path)\n",
    "print('模型已保存至:', model_path)"
   ]
  },
  {
   "cell_type": "code",
   "execution_count": null,
   "id": "8b723fe7-191e-4681-927e-38165a768026",
   "metadata": {},
   "outputs": [],
   "source": []
  },
  {
   "cell_type": "markdown",
   "id": "8fcbf69f-c5f2-42e3-baae-329aa167c896",
   "metadata": {},
   "source": [
    "## 加载模型"
   ]
  },
  {
   "cell_type": "code",
   "execution_count": 11,
   "id": "86e48111-e384-4936-a1b0-2cf189cb5fce",
   "metadata": {},
   "outputs": [
    {
     "data": {
      "text/plain": [
       "Model(\n",
       "  (fc): Linear(in_features=768, out_features=2, bias=True)\n",
       ")"
      ]
     },
     "execution_count": 11,
     "metadata": {},
     "output_type": "execute_result"
    }
   ],
   "source": [
    "my_model = Model()\n",
    "my_model.load_state_dict(torch.load(model_path))\n",
    "my_model.eval()"
   ]
  },
  {
   "cell_type": "code",
   "execution_count": 12,
   "id": "553572b8-c3de-460a-8594-ecea3edd0a82",
   "metadata": {},
   "outputs": [
    {
     "data": {
      "text/plain": [
       "[1, 0, 1]"
      ]
     },
     "execution_count": 12,
     "metadata": {},
     "output_type": "execute_result"
    }
   ],
   "source": [
    "def predict(the_model, text_arr):\n",
    "    the_model.eval()\n",
    "\n",
    "    tokenizer = BertTokenizer.from_pretrained('bert-base-chinese')\n",
    "    torch.no_grad()\n",
    "    x_encode = tokenizer.batch_encode_plus(\n",
    "        # 传入的所有句子，有成对句子\n",
    "        batch_text_or_text_pairs=text_arr,\n",
    "        # 长度大于设置是否截断\n",
    "        truncation=True,\n",
    "        # 一律补齐，如果长度不够\n",
    "        padding='max_length',\n",
    "        add_special_tokens=True,\n",
    "        max_length=30,\n",
    "        # 可取值tf,pt,np,（tensorflow,pytorch,numpy）默认返回list\n",
    "        return_tensors=\"pt\",\n",
    "        # 返回token_type_ids,第一句与特殊符号是0，第二句是1\n",
    "        return_token_type_ids=True,\n",
    "        # 返回attention_mask，填充是0，其他是1\n",
    "        return_attention_mask=True,\n",
    "        # 返回special_tokens_mask特殊符号标识，特殊是1，其他是0\n",
    "        return_special_tokens_mask=True,\n",
    "        # 返回长度,这里的长度是真实长度，而非设置的长度30了\n",
    "        return_length=True\n",
    "    )\n",
    "\n",
    "    y = the_model(input_ids=x_encode['input_ids'],\n",
    "                  attention_mask=x_encode['attention_mask'],\n",
    "                  token_type_ids=x_encode['token_type_ids'])\n",
    "    # print(y)\n",
    "    res = y.argmax(dim=1)\n",
    "    return res.numpy().tolist()\n",
    "\n",
    "\n",
    "texts = ['这家店不错，下次还来', '唉，有点失望，卫生如果能更好一些就不错了', '还行，跟网上描述的一致，有无线网，网速很快']\n",
    "predict(my_model, texts)"
   ]
  },
  {
   "cell_type": "code",
   "execution_count": null,
   "id": "9b51da82-13f1-42d7-bf24-13af47e0486b",
   "metadata": {},
   "outputs": [],
   "source": []
  },
  {
   "cell_type": "code",
   "execution_count": null,
   "id": "47babc5f-46cd-45e1-a852-a26cc559d7d1",
   "metadata": {},
   "outputs": [],
   "source": []
  },
  {
   "cell_type": "code",
   "execution_count": null,
   "id": "f10163ce-4a21-4055-a5d0-128d756779dd",
   "metadata": {},
   "outputs": [],
   "source": []
  },
  {
   "cell_type": "code",
   "execution_count": null,
   "id": "45b18162-9d68-4e38-81e6-df23e23c1540",
   "metadata": {},
   "outputs": [],
   "source": []
  },
  {
   "cell_type": "code",
   "execution_count": null,
   "id": "c26c8e9e-f5b1-42cf-9e2c-457744161705",
   "metadata": {},
   "outputs": [],
   "source": []
  },
  {
   "cell_type": "code",
   "execution_count": null,
   "id": "eca56d3e-1bdd-428b-9364-57c3aea1355b",
   "metadata": {},
   "outputs": [],
   "source": []
  },
  {
   "cell_type": "code",
   "execution_count": null,
   "id": "d58f340d-188b-41db-a101-9da7d889d1b9",
   "metadata": {},
   "outputs": [],
   "source": []
  },
  {
   "cell_type": "code",
   "execution_count": null,
   "id": "b1476362-4771-4526-854d-eabb20a0c6a0",
   "metadata": {},
   "outputs": [],
   "source": []
  },
  {
   "cell_type": "code",
   "execution_count": null,
   "id": "4e4ef0aa-f501-48fd-8436-fc7d4589b8b3",
   "metadata": {},
   "outputs": [],
   "source": []
  },
  {
   "cell_type": "code",
   "execution_count": null,
   "id": "9ff28b14-1208-4986-a899-ab9890640aaf",
   "metadata": {},
   "outputs": [],
   "source": []
  },
  {
   "cell_type": "code",
   "execution_count": null,
   "id": "29df01b2-5ce5-40e6-a52b-3ac57fe218cd",
   "metadata": {},
   "outputs": [],
   "source": []
  }
 ],
 "metadata": {
  "kernelspec": {
   "display_name": "Python 3 (ipykernel)",
   "language": "python",
   "name": "python3"
  },
  "language_info": {
   "codemirror_mode": {
    "name": "ipython",
    "version": 3
   },
   "file_extension": ".py",
   "mimetype": "text/x-python",
   "name": "python",
   "nbconvert_exporter": "python",
   "pygments_lexer": "ipython3",
   "version": "3.8.10"
  }
 },
 "nbformat": 4,
 "nbformat_minor": 5
}
